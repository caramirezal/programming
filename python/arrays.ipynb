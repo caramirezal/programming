{
 "cells": [
  {
   "cell_type": "markdown",
   "metadata": {},
   "source": [
    "# Arrays"
   ]
  },
  {
   "cell_type": "code",
   "execution_count": 1,
   "metadata": {},
   "outputs": [],
   "source": [
    "from datascience import *"
   ]
  },
  {
   "cell_type": "code",
   "execution_count": 9,
   "metadata": {},
   "outputs": [],
   "source": [
    "## array definition\n",
    "a = make_array(1,2,3)"
   ]
  },
  {
   "cell_type": "code",
   "execution_count": 11,
   "metadata": {},
   "outputs": [
    {
     "data": {
      "text/plain": [
       "numpy.ndarray"
      ]
     },
     "execution_count": 11,
     "metadata": {},
     "output_type": "execute_result"
    }
   ],
   "source": [
    "## getting type of array\n",
    "type(a)"
   ]
  },
  {
   "cell_type": "code",
   "execution_count": 6,
   "metadata": {},
   "outputs": [
    {
     "data": {
      "text/plain": [
       "6"
      ]
     },
     "execution_count": 6,
     "metadata": {},
     "output_type": "execute_result"
    }
   ],
   "source": [
    "## sum of all elements in an array\n",
    "sum(a)"
   ]
  },
  {
   "cell_type": "code",
   "execution_count": 8,
   "metadata": {},
   "outputs": [
    {
     "data": {
      "text/plain": [
       "array([ 1,  8, 27])"
      ]
     },
     "execution_count": 8,
     "metadata": {},
     "output_type": "execute_result"
    }
   ],
   "source": [
    "## raise arrary to three\n",
    "a**3"
   ]
  },
  {
   "cell_type": "markdown",
   "metadata": {},
   "source": [
    "### Table columns are arrays"
   ]
  },
  {
   "cell_type": "code",
   "execution_count": 17,
   "metadata": {},
   "outputs": [
    {
     "data": {
      "text/html": [
       "<table border=\"1\" class=\"dataframe\">\n",
       "    <thead>\n",
       "        <tr>\n",
       "            <th>Cell</th> <th>Abl1</th> <th>Eif2b1</th> <th>Erg</th> <th>Eto2</th> <th>Fli1</th> <th>Gata1</th> <th>Gata2</th> <th>Gfi1</th> <th>Gfi1b</th> <th>hHex</th> <th>Kit</th> <th>Ldb1</th> <th>Lmo2</th> <th>Lyl1</th> <th>Meis1</th> <th>Mitf</th> <th>Mrpl19</th> <th>Nfe2</th> <th>Polr2a</th> <th>PU.1</th> <th>Runx1</th> <th>SCL</th> <th>Tel</th> <th>Ubc</th>\n",
       "        </tr>\n",
       "    </thead>\n",
       "    <tbody>\n",
       "        <tr>\n",
       "            <td>CLP001</td> <td>18.6779</td> <td>16.4591</td> <td>19.6492</td> <td>19.2428</td> <td>15.9151</td> <td>40   </td> <td>40   </td> <td>40     </td> <td>40     </td> <td>40     </td> <td>17.8643</td> <td>16.6687</td> <td>18.1803</td> <td>15.4539</td> <td>18.196 </td> <td>40     </td> <td>17.986 </td> <td>17.5246</td> <td>16.9293</td> <td>18.0198</td> <td>15.364 </td> <td>22.6424</td> <td>18.036 </td> <td>13.5989</td>\n",
       "        </tr>\n",
       "    </tbody>\n",
       "        <tr>\n",
       "            <td>CLP002</td> <td>19.068 </td> <td>19.4623</td> <td>17.8717</td> <td>40     </td> <td>17.635 </td> <td>40   </td> <td>40   </td> <td>19.0068</td> <td>18.9441</td> <td>18.5572</td> <td>40     </td> <td>18.4565</td> <td>40     </td> <td>15.7551</td> <td>16.0334</td> <td>40     </td> <td>40     </td> <td>17.8353</td> <td>17.1828</td> <td>17.8285</td> <td>17.3757</td> <td>40     </td> <td>18.6597</td> <td>15.1191</td>\n",
       "        </tr>\n",
       "    </tbody>\n",
       "        <tr>\n",
       "            <td>CLP003</td> <td>17.7428</td> <td>19.356 </td> <td>40     </td> <td>19.9412</td> <td>15.8863</td> <td>40   </td> <td>40   </td> <td>40     </td> <td>40     </td> <td>18.948 </td> <td>16.4138</td> <td>20.1898</td> <td>16.6701</td> <td>16.6486</td> <td>15.2953</td> <td>40     </td> <td>40     </td> <td>18.6317</td> <td>19.385 </td> <td>17.1509</td> <td>17.2826</td> <td>40     </td> <td>18.5823</td> <td>15.2665</td>\n",
       "        </tr>\n",
       "    </tbody>\n",
       "        <tr>\n",
       "            <td>CLP004</td> <td>18.1146</td> <td>18.767 </td> <td>18.4627</td> <td>23.5904</td> <td>16.5768</td> <td>40   </td> <td>40   </td> <td>19.2466</td> <td>19.4505</td> <td>17.7524</td> <td>18.165 </td> <td>18.1589</td> <td>16.799 </td> <td>16.9698</td> <td>17.4518</td> <td>40     </td> <td>17.8275</td> <td>17.8927</td> <td>18.2808</td> <td>17.5093</td> <td>15.8761</td> <td>40     </td> <td>18.0251</td> <td>14.7498</td>\n",
       "        </tr>\n",
       "    </tbody>\n",
       "        <tr>\n",
       "            <td>CLP005</td> <td>19.5837</td> <td>17.4833</td> <td>17.2482</td> <td>20.4202</td> <td>15.7461</td> <td>40   </td> <td>40   </td> <td>40     </td> <td>17.0363</td> <td>18.4543</td> <td>17.5725</td> <td>20.6912</td> <td>17.0085</td> <td>15.8105</td> <td>16.8067</td> <td>40     </td> <td>22.667 </td> <td>19.4703</td> <td>18.3793</td> <td>17.3982</td> <td>17.1598</td> <td>19.1727</td> <td>17.685 </td> <td>14.2408</td>\n",
       "        </tr>\n",
       "    </tbody>\n",
       "        <tr>\n",
       "            <td>CLP006</td> <td>18.186 </td> <td>17.1292</td> <td>17.5487</td> <td>40     </td> <td>17.6252</td> <td>40   </td> <td>40   </td> <td>23.2387</td> <td>19.3446</td> <td>40     </td> <td>17.96  </td> <td>17.9261</td> <td>16.8787</td> <td>16.384 </td> <td>18.1375</td> <td>40     </td> <td>18.9695</td> <td>19.2332</td> <td>17.1994</td> <td>16.2727</td> <td>16.4562</td> <td>40     </td> <td>17.5681</td> <td>14.7022</td>\n",
       "        </tr>\n",
       "    </tbody>\n",
       "        <tr>\n",
       "            <td>CLP007</td> <td>19.5858</td> <td>17.5059</td> <td>16.9023</td> <td>20.1329</td> <td>15.0726</td> <td>40   </td> <td>40   </td> <td>40     </td> <td>18.5438</td> <td>17.7092</td> <td>18.6375</td> <td>19.396 </td> <td>18.3641</td> <td>15.0084</td> <td>15.9826</td> <td>40     </td> <td>17.8951</td> <td>20.1142</td> <td>17.3041</td> <td>17.5587</td> <td>16.0459</td> <td>25.2539</td> <td>18.4053</td> <td>14.582 </td>\n",
       "        </tr>\n",
       "    </tbody>\n",
       "        <tr>\n",
       "            <td>CLP008</td> <td>19.7788</td> <td>17.1802</td> <td>16.6985</td> <td>19.54  </td> <td>15.8982</td> <td>40   </td> <td>40   </td> <td>17.497 </td> <td>20.3457</td> <td>18.5086</td> <td>19.3171</td> <td>18.4221</td> <td>15.7705</td> <td>15.7099</td> <td>15.8852</td> <td>19.5119</td> <td>17.9837</td> <td>20.7401</td> <td>16.747 </td> <td>16.5715</td> <td>15.9555</td> <td>40     </td> <td>18.9303</td> <td>13.2391</td>\n",
       "        </tr>\n",
       "    </tbody>\n",
       "        <tr>\n",
       "            <td>CLP009</td> <td>40     </td> <td>17.2564</td> <td>19.2361</td> <td>18.3137</td> <td>16.3047</td> <td>40   </td> <td>40   </td> <td>40     </td> <td>16.5051</td> <td>16.3858</td> <td>18.4701</td> <td>19.5447</td> <td>18.741 </td> <td>16.3535</td> <td>18.1053</td> <td>40     </td> <td>16.8132</td> <td>20.3507</td> <td>16.6263</td> <td>16.8331</td> <td>18.0435</td> <td>17.319 </td> <td>17.2022</td> <td>13.2732</td>\n",
       "        </tr>\n",
       "    </tbody>\n",
       "        <tr>\n",
       "            <td>CLP010</td> <td>17.0894</td> <td>17.5316</td> <td>17.1864</td> <td>23.7205</td> <td>15.6409</td> <td>40   </td> <td>40   </td> <td>17.4994</td> <td>20.8113</td> <td>16.5733</td> <td>16.6343</td> <td>18.2841</td> <td>16.1988</td> <td>16.3586</td> <td>15.9203</td> <td>40     </td> <td>17.1452</td> <td>18.1469</td> <td>16.9478</td> <td>16.3117</td> <td>15.5373</td> <td>40     </td> <td>18.6297</td> <td>13.8124</td>\n",
       "        </tr>\n",
       "    </tbody>\n",
       "</table>\n",
       "<p>... (610 rows omitted)</p>"
      ],
      "text/plain": [
       "Cell   | Abl1    | Eif2b1  | Erg     | Eto2    | Fli1    | Gata1 | Gata2 | Gfi1    | Gfi1b   | hHex    | Kit     | Ldb1    | Lmo2    | Lyl1    | Meis1   | Mitf    | Mrpl19  | Nfe2    | Polr2a  | PU.1    | Runx1   | SCL     | Tel     | Ubc\n",
       "CLP001 | 18.6779 | 16.4591 | 19.6492 | 19.2428 | 15.9151 | 40    | 40    | 40      | 40      | 40      | 17.8643 | 16.6687 | 18.1803 | 15.4539 | 18.196  | 40      | 17.986  | 17.5246 | 16.9293 | 18.0198 | 15.364  | 22.6424 | 18.036  | 13.5989\n",
       "CLP002 | 19.068  | 19.4623 | 17.8717 | 40      | 17.635  | 40    | 40    | 19.0068 | 18.9441 | 18.5572 | 40      | 18.4565 | 40      | 15.7551 | 16.0334 | 40      | 40      | 17.8353 | 17.1828 | 17.8285 | 17.3757 | 40      | 18.6597 | 15.1191\n",
       "CLP003 | 17.7428 | 19.356  | 40      | 19.9412 | 15.8863 | 40    | 40    | 40      | 40      | 18.948  | 16.4138 | 20.1898 | 16.6701 | 16.6486 | 15.2953 | 40      | 40      | 18.6317 | 19.385  | 17.1509 | 17.2826 | 40      | 18.5823 | 15.2665\n",
       "CLP004 | 18.1146 | 18.767  | 18.4627 | 23.5904 | 16.5768 | 40    | 40    | 19.2466 | 19.4505 | 17.7524 | 18.165  | 18.1589 | 16.799  | 16.9698 | 17.4518 | 40      | 17.8275 | 17.8927 | 18.2808 | 17.5093 | 15.8761 | 40      | 18.0251 | 14.7498\n",
       "CLP005 | 19.5837 | 17.4833 | 17.2482 | 20.4202 | 15.7461 | 40    | 40    | 40      | 17.0363 | 18.4543 | 17.5725 | 20.6912 | 17.0085 | 15.8105 | 16.8067 | 40      | 22.667  | 19.4703 | 18.3793 | 17.3982 | 17.1598 | 19.1727 | 17.685  | 14.2408\n",
       "CLP006 | 18.186  | 17.1292 | 17.5487 | 40      | 17.6252 | 40    | 40    | 23.2387 | 19.3446 | 40      | 17.96   | 17.9261 | 16.8787 | 16.384  | 18.1375 | 40      | 18.9695 | 19.2332 | 17.1994 | 16.2727 | 16.4562 | 40      | 17.5681 | 14.7022\n",
       "CLP007 | 19.5858 | 17.5059 | 16.9023 | 20.1329 | 15.0726 | 40    | 40    | 40      | 18.5438 | 17.7092 | 18.6375 | 19.396  | 18.3641 | 15.0084 | 15.9826 | 40      | 17.8951 | 20.1142 | 17.3041 | 17.5587 | 16.0459 | 25.2539 | 18.4053 | 14.582\n",
       "CLP008 | 19.7788 | 17.1802 | 16.6985 | 19.54   | 15.8982 | 40    | 40    | 17.497  | 20.3457 | 18.5086 | 19.3171 | 18.4221 | 15.7705 | 15.7099 | 15.8852 | 19.5119 | 17.9837 | 20.7401 | 16.747  | 16.5715 | 15.9555 | 40      | 18.9303 | 13.2391\n",
       "CLP009 | 40      | 17.2564 | 19.2361 | 18.3137 | 16.3047 | 40    | 40    | 40      | 16.5051 | 16.3858 | 18.4701 | 19.5447 | 18.741  | 16.3535 | 18.1053 | 40      | 16.8132 | 20.3507 | 16.6263 | 16.8331 | 18.0435 | 17.319  | 17.2022 | 13.2732\n",
       "CLP010 | 17.0894 | 17.5316 | 17.1864 | 23.7205 | 15.6409 | 40    | 40    | 17.4994 | 20.8113 | 16.5733 | 16.6343 | 18.2841 | 16.1988 | 16.3586 | 15.9203 | 40      | 17.1452 | 18.1469 | 16.9478 | 16.3117 | 15.5373 | 40      | 18.6297 | 13.8124\n",
       "... (610 rows omitted)"
      ]
     },
     "execution_count": 17,
     "metadata": {},
     "output_type": "execute_result"
    }
   ],
   "source": [
    "## Importing data\n",
    "path = '/home/carlos/scripts/dataScience/data/NIHMS53736-supplement-9.csv'\n",
    "data = Table.read_table(path)\n",
    "data"
   ]
  },
  {
   "cell_type": "code",
   "execution_count": 19,
   "metadata": {},
   "outputs": [
    {
     "data": {
      "text/plain": [
       "array(['CLP001', 'CLP002', 'CLP003', 'CLP004', 'CLP005', 'CLP006',\n",
       "       'CLP007', 'CLP008', 'CLP009', 'CLP010'], \n",
       "      dtype='<U10')"
      ]
     },
     "execution_count": 19,
     "metadata": {},
     "output_type": "execute_result"
    }
   ],
   "source": [
    "## select a column (which is an array) from the table\n",
    "data.column(\"Cell\")[:10]"
   ]
  }
 ],
 "metadata": {
  "kernelspec": {
   "display_name": "Python 3",
   "language": "python",
   "name": "python3"
  },
  "language_info": {
   "codemirror_mode": {
    "name": "ipython",
    "version": 3
   },
   "file_extension": ".py",
   "mimetype": "text/x-python",
   "name": "python",
   "nbconvert_exporter": "python",
   "pygments_lexer": "ipython3",
   "version": "3.6.1"
  }
 },
 "nbformat": 4,
 "nbformat_minor": 2
}

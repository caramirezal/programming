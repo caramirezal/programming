{
 "cells": [
  {
   "cell_type": "markdown",
   "metadata": {},
   "source": [
    "# Arrays"
   ]
  },
  {
   "cell_type": "code",
   "execution_count": 1,
   "metadata": {
    "collapsed": true
   },
   "outputs": [],
   "source": [
    "from datascience import *\n",
    "import numpy as np\n",
    "\n",
    "## Import plot functions\n",
    "%matplotlib inline\n",
    "import matplotlib.pyplot as plots\n",
    "plots.style.use('fivethirtyeight')"
   ]
  },
  {
   "cell_type": "code",
   "execution_count": 2,
   "metadata": {},
   "outputs": [
    {
     "data": {
      "text/plain": [
       "array([1, 2, 3])"
      ]
     },
     "execution_count": 2,
     "metadata": {},
     "output_type": "execute_result"
    }
   ],
   "source": [
    "## array definition using datascience\n",
    "a = make_array(1,2,3)\n",
    "a"
   ]
  },
  {
   "cell_type": "code",
   "execution_count": 3,
   "metadata": {},
   "outputs": [
    {
     "data": {
      "text/plain": [
       "array([1, 2, 3])"
      ]
     },
     "execution_count": 3,
     "metadata": {},
     "output_type": "execute_result"
    }
   ],
   "source": [
    "## array definition using numpy\n",
    "a = np.array([1,2,3])\n",
    "a"
   ]
  },
  {
   "cell_type": "code",
   "execution_count": 4,
   "metadata": {},
   "outputs": [
    {
     "data": {
      "text/plain": [
       "numpy.ndarray"
      ]
     },
     "execution_count": 4,
     "metadata": {},
     "output_type": "execute_result"
    }
   ],
   "source": [
    "## getting type of array\n",
    "type(a)"
   ]
  },
  {
   "cell_type": "code",
   "execution_count": 5,
   "metadata": {},
   "outputs": [
    {
     "data": {
      "text/plain": [
       "6"
      ]
     },
     "execution_count": 5,
     "metadata": {},
     "output_type": "execute_result"
    }
   ],
   "source": [
    "## sum of all elements in an array\n",
    "sum(a)"
   ]
  },
  {
   "cell_type": "code",
   "execution_count": 6,
   "metadata": {},
   "outputs": [
    {
     "data": {
      "text/plain": [
       "array([ 1,  8, 27])"
      ]
     },
     "execution_count": 6,
     "metadata": {},
     "output_type": "execute_result"
    }
   ],
   "source": [
    "## raise arrary to three\n",
    "a**3"
   ]
  },
  {
   "cell_type": "code",
   "execution_count": 7,
   "metadata": {},
   "outputs": [
    {
     "data": {
      "text/plain": [
       "array([0, 1, 2, 3, 4])"
      ]
     },
     "execution_count": 7,
     "metadata": {},
     "output_type": "execute_result"
    }
   ],
   "source": [
    "## definition of a vector of indexes\n",
    "np.arange(5)"
   ]
  },
  {
   "cell_type": "code",
   "execution_count": 8,
   "metadata": {},
   "outputs": [
    {
     "data": {
      "text/plain": [
       "'Hello and goodbye'"
      ]
     },
     "execution_count": 8,
     "metadata": {},
     "output_type": "execute_result"
    }
   ],
   "source": [
    "## paste or concatenate an array of strings\n",
    "strings = make_array(\"Hello\",\"and\",\"goodbye\")\n",
    "separator = \" \"\n",
    "\" \".join(strings)"
   ]
  },
  {
   "cell_type": "markdown",
   "metadata": {},
   "source": [
    "# Tables"
   ]
  },
  {
   "cell_type": "markdown",
   "metadata": {},
   "source": [
    "Table library documentation can be found [Here](http://data8.org/datascience/tables.html)."
   ]
  },
  {
   "cell_type": "markdown",
   "metadata": {},
   "source": [
    "### Table columns are arrays"
   ]
  },
  {
   "cell_type": "code",
   "execution_count": 9,
   "metadata": {},
   "outputs": [
    {
     "data": {
      "text/html": [
       "<table border=\"1\" class=\"dataframe\">\n",
       "    <thead>\n",
       "        <tr>\n",
       "            <th>Cell</th> <th>Abl1</th> <th>Eif2b1</th> <th>Erg</th> <th>Eto2</th> <th>Fli1</th> <th>Gata1</th> <th>Gata2</th> <th>Gfi1</th> <th>Gfi1b</th> <th>hHex</th> <th>Kit</th> <th>Ldb1</th> <th>Lmo2</th> <th>Lyl1</th> <th>Meis1</th> <th>Mitf</th> <th>Mrpl19</th> <th>Nfe2</th> <th>Polr2a</th> <th>PU.1</th> <th>Runx1</th> <th>SCL</th> <th>Tel</th> <th>Ubc</th>\n",
       "        </tr>\n",
       "    </thead>\n",
       "    <tbody>\n",
       "        <tr>\n",
       "            <td>CLP001</td> <td>18.6779</td> <td>16.4591</td> <td>19.6492</td> <td>19.2428</td> <td>15.9151</td> <td>40   </td> <td>40   </td> <td>40     </td> <td>40     </td> <td>40     </td> <td>17.8643</td> <td>16.6687</td> <td>18.1803</td> <td>15.4539</td> <td>18.196 </td> <td>40     </td> <td>17.986 </td> <td>17.5246</td> <td>16.9293</td> <td>18.0198</td> <td>15.364 </td> <td>22.6424</td> <td>18.036 </td> <td>13.5989</td>\n",
       "        </tr>\n",
       "    </tbody>\n",
       "        <tr>\n",
       "            <td>CLP002</td> <td>19.068 </td> <td>19.4623</td> <td>17.8717</td> <td>40     </td> <td>17.635 </td> <td>40   </td> <td>40   </td> <td>19.0068</td> <td>18.9441</td> <td>18.5572</td> <td>40     </td> <td>18.4565</td> <td>40     </td> <td>15.7551</td> <td>16.0334</td> <td>40     </td> <td>40     </td> <td>17.8353</td> <td>17.1828</td> <td>17.8285</td> <td>17.3757</td> <td>40     </td> <td>18.6597</td> <td>15.1191</td>\n",
       "        </tr>\n",
       "    </tbody>\n",
       "        <tr>\n",
       "            <td>CLP003</td> <td>17.7428</td> <td>19.356 </td> <td>40     </td> <td>19.9412</td> <td>15.8863</td> <td>40   </td> <td>40   </td> <td>40     </td> <td>40     </td> <td>18.948 </td> <td>16.4138</td> <td>20.1898</td> <td>16.6701</td> <td>16.6486</td> <td>15.2953</td> <td>40     </td> <td>40     </td> <td>18.6317</td> <td>19.385 </td> <td>17.1509</td> <td>17.2826</td> <td>40     </td> <td>18.5823</td> <td>15.2665</td>\n",
       "        </tr>\n",
       "    </tbody>\n",
       "        <tr>\n",
       "            <td>CLP004</td> <td>18.1146</td> <td>18.767 </td> <td>18.4627</td> <td>23.5904</td> <td>16.5768</td> <td>40   </td> <td>40   </td> <td>19.2466</td> <td>19.4505</td> <td>17.7524</td> <td>18.165 </td> <td>18.1589</td> <td>16.799 </td> <td>16.9698</td> <td>17.4518</td> <td>40     </td> <td>17.8275</td> <td>17.8927</td> <td>18.2808</td> <td>17.5093</td> <td>15.8761</td> <td>40     </td> <td>18.0251</td> <td>14.7498</td>\n",
       "        </tr>\n",
       "    </tbody>\n",
       "        <tr>\n",
       "            <td>CLP005</td> <td>19.5837</td> <td>17.4833</td> <td>17.2482</td> <td>20.4202</td> <td>15.7461</td> <td>40   </td> <td>40   </td> <td>40     </td> <td>17.0363</td> <td>18.4543</td> <td>17.5725</td> <td>20.6912</td> <td>17.0085</td> <td>15.8105</td> <td>16.8067</td> <td>40     </td> <td>22.667 </td> <td>19.4703</td> <td>18.3793</td> <td>17.3982</td> <td>17.1598</td> <td>19.1727</td> <td>17.685 </td> <td>14.2408</td>\n",
       "        </tr>\n",
       "    </tbody>\n",
       "        <tr>\n",
       "            <td>CLP006</td> <td>18.186 </td> <td>17.1292</td> <td>17.5487</td> <td>40     </td> <td>17.6252</td> <td>40   </td> <td>40   </td> <td>23.2387</td> <td>19.3446</td> <td>40     </td> <td>17.96  </td> <td>17.9261</td> <td>16.8787</td> <td>16.384 </td> <td>18.1375</td> <td>40     </td> <td>18.9695</td> <td>19.2332</td> <td>17.1994</td> <td>16.2727</td> <td>16.4562</td> <td>40     </td> <td>17.5681</td> <td>14.7022</td>\n",
       "        </tr>\n",
       "    </tbody>\n",
       "        <tr>\n",
       "            <td>CLP007</td> <td>19.5858</td> <td>17.5059</td> <td>16.9023</td> <td>20.1329</td> <td>15.0726</td> <td>40   </td> <td>40   </td> <td>40     </td> <td>18.5438</td> <td>17.7092</td> <td>18.6375</td> <td>19.396 </td> <td>18.3641</td> <td>15.0084</td> <td>15.9826</td> <td>40     </td> <td>17.8951</td> <td>20.1142</td> <td>17.3041</td> <td>17.5587</td> <td>16.0459</td> <td>25.2539</td> <td>18.4053</td> <td>14.582 </td>\n",
       "        </tr>\n",
       "    </tbody>\n",
       "        <tr>\n",
       "            <td>CLP008</td> <td>19.7788</td> <td>17.1802</td> <td>16.6985</td> <td>19.54  </td> <td>15.8982</td> <td>40   </td> <td>40   </td> <td>17.497 </td> <td>20.3457</td> <td>18.5086</td> <td>19.3171</td> <td>18.4221</td> <td>15.7705</td> <td>15.7099</td> <td>15.8852</td> <td>19.5119</td> <td>17.9837</td> <td>20.7401</td> <td>16.747 </td> <td>16.5715</td> <td>15.9555</td> <td>40     </td> <td>18.9303</td> <td>13.2391</td>\n",
       "        </tr>\n",
       "    </tbody>\n",
       "        <tr>\n",
       "            <td>CLP009</td> <td>40     </td> <td>17.2564</td> <td>19.2361</td> <td>18.3137</td> <td>16.3047</td> <td>40   </td> <td>40   </td> <td>40     </td> <td>16.5051</td> <td>16.3858</td> <td>18.4701</td> <td>19.5447</td> <td>18.741 </td> <td>16.3535</td> <td>18.1053</td> <td>40     </td> <td>16.8132</td> <td>20.3507</td> <td>16.6263</td> <td>16.8331</td> <td>18.0435</td> <td>17.319 </td> <td>17.2022</td> <td>13.2732</td>\n",
       "        </tr>\n",
       "    </tbody>\n",
       "        <tr>\n",
       "            <td>CLP010</td> <td>17.0894</td> <td>17.5316</td> <td>17.1864</td> <td>23.7205</td> <td>15.6409</td> <td>40   </td> <td>40   </td> <td>17.4994</td> <td>20.8113</td> <td>16.5733</td> <td>16.6343</td> <td>18.2841</td> <td>16.1988</td> <td>16.3586</td> <td>15.9203</td> <td>40     </td> <td>17.1452</td> <td>18.1469</td> <td>16.9478</td> <td>16.3117</td> <td>15.5373</td> <td>40     </td> <td>18.6297</td> <td>13.8124</td>\n",
       "        </tr>\n",
       "    </tbody>\n",
       "</table>\n",
       "<p>... (610 rows omitted)</p>"
      ],
      "text/plain": [
       "Cell   | Abl1    | Eif2b1  | Erg     | Eto2    | Fli1    | Gata1 | Gata2 | Gfi1    | Gfi1b   | hHex    | Kit     | Ldb1    | Lmo2    | Lyl1    | Meis1   | Mitf    | Mrpl19  | Nfe2    | Polr2a  | PU.1    | Runx1   | SCL     | Tel     | Ubc\n",
       "CLP001 | 18.6779 | 16.4591 | 19.6492 | 19.2428 | 15.9151 | 40    | 40    | 40      | 40      | 40      | 17.8643 | 16.6687 | 18.1803 | 15.4539 | 18.196  | 40      | 17.986  | 17.5246 | 16.9293 | 18.0198 | 15.364  | 22.6424 | 18.036  | 13.5989\n",
       "CLP002 | 19.068  | 19.4623 | 17.8717 | 40      | 17.635  | 40    | 40    | 19.0068 | 18.9441 | 18.5572 | 40      | 18.4565 | 40      | 15.7551 | 16.0334 | 40      | 40      | 17.8353 | 17.1828 | 17.8285 | 17.3757 | 40      | 18.6597 | 15.1191\n",
       "CLP003 | 17.7428 | 19.356  | 40      | 19.9412 | 15.8863 | 40    | 40    | 40      | 40      | 18.948  | 16.4138 | 20.1898 | 16.6701 | 16.6486 | 15.2953 | 40      | 40      | 18.6317 | 19.385  | 17.1509 | 17.2826 | 40      | 18.5823 | 15.2665\n",
       "CLP004 | 18.1146 | 18.767  | 18.4627 | 23.5904 | 16.5768 | 40    | 40    | 19.2466 | 19.4505 | 17.7524 | 18.165  | 18.1589 | 16.799  | 16.9698 | 17.4518 | 40      | 17.8275 | 17.8927 | 18.2808 | 17.5093 | 15.8761 | 40      | 18.0251 | 14.7498\n",
       "CLP005 | 19.5837 | 17.4833 | 17.2482 | 20.4202 | 15.7461 | 40    | 40    | 40      | 17.0363 | 18.4543 | 17.5725 | 20.6912 | 17.0085 | 15.8105 | 16.8067 | 40      | 22.667  | 19.4703 | 18.3793 | 17.3982 | 17.1598 | 19.1727 | 17.685  | 14.2408\n",
       "CLP006 | 18.186  | 17.1292 | 17.5487 | 40      | 17.6252 | 40    | 40    | 23.2387 | 19.3446 | 40      | 17.96   | 17.9261 | 16.8787 | 16.384  | 18.1375 | 40      | 18.9695 | 19.2332 | 17.1994 | 16.2727 | 16.4562 | 40      | 17.5681 | 14.7022\n",
       "CLP007 | 19.5858 | 17.5059 | 16.9023 | 20.1329 | 15.0726 | 40    | 40    | 40      | 18.5438 | 17.7092 | 18.6375 | 19.396  | 18.3641 | 15.0084 | 15.9826 | 40      | 17.8951 | 20.1142 | 17.3041 | 17.5587 | 16.0459 | 25.2539 | 18.4053 | 14.582\n",
       "CLP008 | 19.7788 | 17.1802 | 16.6985 | 19.54   | 15.8982 | 40    | 40    | 17.497  | 20.3457 | 18.5086 | 19.3171 | 18.4221 | 15.7705 | 15.7099 | 15.8852 | 19.5119 | 17.9837 | 20.7401 | 16.747  | 16.5715 | 15.9555 | 40      | 18.9303 | 13.2391\n",
       "CLP009 | 40      | 17.2564 | 19.2361 | 18.3137 | 16.3047 | 40    | 40    | 40      | 16.5051 | 16.3858 | 18.4701 | 19.5447 | 18.741  | 16.3535 | 18.1053 | 40      | 16.8132 | 20.3507 | 16.6263 | 16.8331 | 18.0435 | 17.319  | 17.2022 | 13.2732\n",
       "CLP010 | 17.0894 | 17.5316 | 17.1864 | 23.7205 | 15.6409 | 40    | 40    | 17.4994 | 20.8113 | 16.5733 | 16.6343 | 18.2841 | 16.1988 | 16.3586 | 15.9203 | 40      | 17.1452 | 18.1469 | 16.9478 | 16.3117 | 15.5373 | 40      | 18.6297 | 13.8124\n",
       "... (610 rows omitted)"
      ]
     },
     "execution_count": 9,
     "metadata": {},
     "output_type": "execute_result"
    }
   ],
   "source": [
    "## Importing data\n",
    "path = '/home/carlos/scripts/dataScience/data/NIHMS53736-supplement-9.csv'\n",
    "data = Table.read_table(path)\n",
    "data"
   ]
  },
  {
   "cell_type": "code",
   "execution_count": 10,
   "metadata": {},
   "outputs": [
    {
     "data": {
      "text/plain": [
       "array(['CLP001', 'CLP002', 'CLP003', 'CLP004', 'CLP005', 'CLP006',\n",
       "       'CLP007', 'CLP008', 'CLP009', 'CLP010'], \n",
       "      dtype='<U10')"
      ]
     },
     "execution_count": 10,
     "metadata": {},
     "output_type": "execute_result"
    }
   ],
   "source": [
    "## select a column (which is an array) from the table\n",
    "data.column(\"Cell\")[:10]"
   ]
  },
  {
   "cell_type": "code",
   "execution_count": 11,
   "metadata": {},
   "outputs": [
    {
     "data": {
      "text/plain": [
       "array([ 19.06803842,  17.74280459,  18.11456154,  19.58371532,\n",
       "        18.18604901,  19.58578921,  19.7788078 ,  40.        ,  17.08941762])"
      ]
     },
     "execution_count": 11,
     "metadata": {},
     "output_type": "execute_result"
    }
   ],
   "source": [
    "## select a column using integer\n",
    "data.column(1)[1:10]"
   ]
  },
  {
   "cell_type": "code",
   "execution_count": 12,
   "metadata": {},
   "outputs": [
    {
     "data": {
      "text/plain": [
       "40.0"
      ]
     },
     "execution_count": 12,
     "metadata": {},
     "output_type": "execute_result"
    }
   ],
   "source": [
    "## take max of the second column\n",
    "data.column(1).max()"
   ]
  },
  {
   "cell_type": "markdown",
   "metadata": {},
   "source": [
    "## Table slides"
   ]
  },
  {
   "cell_type": "code",
   "execution_count": 13,
   "metadata": {},
   "outputs": [
    {
     "data": {
      "text/plain": [
       "'CLP002'"
      ]
     },
     "execution_count": 13,
     "metadata": {},
     "output_type": "execute_result"
    }
   ],
   "source": [
    "## select first column and second column value\n",
    "data.column(0).item(1)"
   ]
  },
  {
   "cell_type": "code",
   "execution_count": 14,
   "metadata": {},
   "outputs": [
    {
     "data": {
      "text/plain": [
       "18.677856649999999"
      ]
     },
     "execution_count": 14,
     "metadata": {},
     "output_type": "execute_result"
    }
   ],
   "source": [
    "## select first row and second row value\n",
    "data.row(0).item(1)"
   ]
  },
  {
   "cell_type": "markdown",
   "metadata": {},
   "source": [
    "## table definitions"
   ]
  },
  {
   "cell_type": "code",
   "execution_count": 15,
   "metadata": {},
   "outputs": [
    {
     "data": {
      "text/html": [
       "<table border=\"1\" class=\"dataframe\">\n",
       "    <thead>\n",
       "        <tr>\n",
       "            <th>band</th> <th>song</th>\n",
       "        </tr>\n",
       "    </thead>\n",
       "    <tbody>\n",
       "        <tr>\n",
       "            <td>nirvana     </td> <td>Lithium      </td>\n",
       "        </tr>\n",
       "    </tbody>\n",
       "        <tr>\n",
       "            <td>guns n roses</td> <td>November Rain</td>\n",
       "        </tr>\n",
       "    </tbody>\n",
       "</table>"
      ],
      "text/plain": [
       "band         | song\n",
       "nirvana      | Lithium\n",
       "guns n roses | November Rain"
      ]
     },
     "execution_count": 15,
     "metadata": {},
     "output_type": "execute_result"
    }
   ],
   "source": [
    "## Table definition\n",
    "## note the Table() sintax\n",
    "songs = Table().with_columns(\"band\",make_array('nirvana','guns n roses'),\n",
    "                  \"song\",make_array('Lithium','November Rain'))\n",
    "songs"
   ]
  },
  {
   "cell_type": "code",
   "execution_count": 16,
   "metadata": {},
   "outputs": [
    {
     "data": {
      "text/html": [
       "<table border=\"1\" class=\"dataframe\">\n",
       "    <thead>\n",
       "        <tr>\n",
       "            <th>band</th> <th>song</th> <th>genera</th>\n",
       "        </tr>\n",
       "    </thead>\n",
       "    <tbody>\n",
       "        <tr>\n",
       "            <td>nirvana     </td> <td>Lithium      </td> <td>grounge     </td>\n",
       "        </tr>\n",
       "    </tbody>\n",
       "        <tr>\n",
       "            <td>guns n roses</td> <td>November Rain</td> <td>heavy methal</td>\n",
       "        </tr>\n",
       "    </tbody>\n",
       "</table>"
      ],
      "text/plain": [
       "band         | song          | genera\n",
       "nirvana      | Lithium       | grounge\n",
       "guns n roses | November Rain | heavy methal"
      ]
     },
     "execution_count": 16,
     "metadata": {},
     "output_type": "execute_result"
    }
   ],
   "source": [
    "## adding new column \n",
    "## columns are arrays\n",
    "songs.with_column('genera',make_array('grounge','heavy methal'))"
   ]
  },
  {
   "cell_type": "code",
   "execution_count": 17,
   "metadata": {},
   "outputs": [
    {
     "data": {
      "text/html": [
       "<table border=\"1\" class=\"dataframe\">\n",
       "    <thead>\n",
       "        <tr>\n",
       "            <th>band</th> <th>song</th>\n",
       "        </tr>\n",
       "    </thead>\n",
       "    <tbody>\n",
       "        <tr>\n",
       "            <td>nirvana</td> <td>Lithium</td>\n",
       "        </tr>\n",
       "    </tbody>\n",
       "</table>\n",
       "<p>... (1 rows omitted)</p>"
      ],
      "text/plain": [
       "<IPython.core.display.HTML object>"
      ]
     },
     "metadata": {},
     "output_type": "display_data"
    }
   ],
   "source": [
    "## display one row\n",
    "songs.show(1)"
   ]
  },
  {
   "cell_type": "code",
   "execution_count": 18,
   "metadata": {},
   "outputs": [
    {
     "data": {
      "text/html": [
       "<table border=\"1\" class=\"dataframe\">\n",
       "    <thead>\n",
       "        <tr>\n",
       "            <th>band</th> <th>song</th>\n",
       "        </tr>\n",
       "    </thead>\n",
       "    <tbody>\n",
       "        <tr>\n",
       "            <td>guns n roses</td> <td>November Rain</td>\n",
       "        </tr>\n",
       "    </tbody>\n",
       "        <tr>\n",
       "            <td>nirvana     </td> <td>Lithium      </td>\n",
       "        </tr>\n",
       "    </tbody>\n",
       "</table>"
      ],
      "text/plain": [
       "band         | song\n",
       "guns n roses | November Rain\n",
       "nirvana      | Lithium"
      ]
     },
     "execution_count": 18,
     "metadata": {},
     "output_type": "execute_result"
    }
   ],
   "source": [
    "## sorting by column\n",
    "songs.sort('band')"
   ]
  },
  {
   "cell_type": "code",
   "execution_count": 19,
   "metadata": {},
   "outputs": [
    {
     "data": {
      "text/html": [
       "<table border=\"1\" class=\"dataframe\">\n",
       "    <thead>\n",
       "        <tr>\n",
       "            <th>band</th> <th>song</th>\n",
       "        </tr>\n",
       "    </thead>\n",
       "    <tbody>\n",
       "        <tr>\n",
       "            <td>nirvana     </td> <td>Lithium      </td>\n",
       "        </tr>\n",
       "    </tbody>\n",
       "        <tr>\n",
       "            <td>guns n roses</td> <td>November Rain</td>\n",
       "        </tr>\n",
       "    </tbody>\n",
       "</table>"
      ],
      "text/plain": [
       "band         | song\n",
       "nirvana      | Lithium\n",
       "guns n roses | November Rain"
      ]
     },
     "execution_count": 19,
     "metadata": {},
     "output_type": "execute_result"
    }
   ],
   "source": [
    "## sorting descending\n",
    "songs.sort('band',descending=True)"
   ]
  },
  {
   "cell_type": "code",
   "execution_count": 20,
   "metadata": {},
   "outputs": [
    {
     "data": {
      "text/html": [
       "<table border=\"1\" class=\"dataframe\">\n",
       "    <thead>\n",
       "        <tr>\n",
       "            <th>band</th> <th>song</th>\n",
       "        </tr>\n",
       "    </thead>\n",
       "    <tbody>\n",
       "        <tr>\n",
       "            <td>nirvana</td> <td>Lithium</td>\n",
       "        </tr>\n",
       "    </tbody>\n",
       "</table>"
      ],
      "text/plain": [
       "band    | song\n",
       "nirvana | Lithium"
      ]
     },
     "execution_count": 20,
     "metadata": {},
     "output_type": "execute_result"
    }
   ],
   "source": [
    "## select row 0 by index\n",
    "songs.take(0)"
   ]
  },
  {
   "cell_type": "code",
   "execution_count": 21,
   "metadata": {},
   "outputs": [
    {
     "data": {
      "text/html": [
       "<table border=\"1\" class=\"dataframe\">\n",
       "    <thead>\n",
       "        <tr>\n",
       "            <th>Cell</th> <th>Abl1</th> <th>Eif2b1</th> <th>Erg</th> <th>Eto2</th> <th>Fli1</th> <th>Gata1</th> <th>Gata2</th> <th>Gfi1</th> <th>Gfi1b</th> <th>hHex</th> <th>Kit</th> <th>Ldb1</th> <th>Lmo2</th> <th>Lyl1</th> <th>Meis1</th> <th>Mitf</th> <th>Mrpl19</th> <th>Nfe2</th> <th>Polr2a</th> <th>PU.1</th> <th>Runx1</th> <th>SCL</th> <th>Tel</th> <th>Ubc</th>\n",
       "        </tr>\n",
       "    </thead>\n",
       "    <tbody>\n",
       "        <tr>\n",
       "            <td>CLP001</td> <td>18.6779</td> <td>16.4591</td> <td>19.6492</td> <td>19.2428</td> <td>15.9151</td> <td>40   </td> <td>40   </td> <td>40     </td> <td>40     </td> <td>40     </td> <td>17.8643</td> <td>16.6687</td> <td>18.1803</td> <td>15.4539</td> <td>18.196 </td> <td>40  </td> <td>17.986 </td> <td>17.5246</td> <td>16.9293</td> <td>18.0198</td> <td>15.364 </td> <td>22.6424</td> <td>18.036 </td> <td>13.5989</td>\n",
       "        </tr>\n",
       "    </tbody>\n",
       "        <tr>\n",
       "            <td>CLP002</td> <td>19.068 </td> <td>19.4623</td> <td>17.8717</td> <td>40     </td> <td>17.635 </td> <td>40   </td> <td>40   </td> <td>19.0068</td> <td>18.9441</td> <td>18.5572</td> <td>40     </td> <td>18.4565</td> <td>40     </td> <td>15.7551</td> <td>16.0334</td> <td>40  </td> <td>40     </td> <td>17.8353</td> <td>17.1828</td> <td>17.8285</td> <td>17.3757</td> <td>40     </td> <td>18.6597</td> <td>15.1191</td>\n",
       "        </tr>\n",
       "    </tbody>\n",
       "        <tr>\n",
       "            <td>CLP003</td> <td>17.7428</td> <td>19.356 </td> <td>40     </td> <td>19.9412</td> <td>15.8863</td> <td>40   </td> <td>40   </td> <td>40     </td> <td>40     </td> <td>18.948 </td> <td>16.4138</td> <td>20.1898</td> <td>16.6701</td> <td>16.6486</td> <td>15.2953</td> <td>40  </td> <td>40     </td> <td>18.6317</td> <td>19.385 </td> <td>17.1509</td> <td>17.2826</td> <td>40     </td> <td>18.5823</td> <td>15.2665</td>\n",
       "        </tr>\n",
       "    </tbody>\n",
       "        <tr>\n",
       "            <td>CLP004</td> <td>18.1146</td> <td>18.767 </td> <td>18.4627</td> <td>23.5904</td> <td>16.5768</td> <td>40   </td> <td>40   </td> <td>19.2466</td> <td>19.4505</td> <td>17.7524</td> <td>18.165 </td> <td>18.1589</td> <td>16.799 </td> <td>16.9698</td> <td>17.4518</td> <td>40  </td> <td>17.8275</td> <td>17.8927</td> <td>18.2808</td> <td>17.5093</td> <td>15.8761</td> <td>40     </td> <td>18.0251</td> <td>14.7498</td>\n",
       "        </tr>\n",
       "    </tbody>\n",
       "        <tr>\n",
       "            <td>CLP005</td> <td>19.5837</td> <td>17.4833</td> <td>17.2482</td> <td>20.4202</td> <td>15.7461</td> <td>40   </td> <td>40   </td> <td>40     </td> <td>17.0363</td> <td>18.4543</td> <td>17.5725</td> <td>20.6912</td> <td>17.0085</td> <td>15.8105</td> <td>16.8067</td> <td>40  </td> <td>22.667 </td> <td>19.4703</td> <td>18.3793</td> <td>17.3982</td> <td>17.1598</td> <td>19.1727</td> <td>17.685 </td> <td>14.2408</td>\n",
       "        </tr>\n",
       "    </tbody>\n",
       "</table>"
      ],
      "text/plain": [
       "Cell   | Abl1    | Eif2b1  | Erg     | Eto2    | Fli1    | Gata1 | Gata2 | Gfi1    | Gfi1b   | hHex    | Kit     | Ldb1    | Lmo2    | Lyl1    | Meis1   | Mitf | Mrpl19  | Nfe2    | Polr2a  | PU.1    | Runx1   | SCL     | Tel     | Ubc\n",
       "CLP001 | 18.6779 | 16.4591 | 19.6492 | 19.2428 | 15.9151 | 40    | 40    | 40      | 40      | 40      | 17.8643 | 16.6687 | 18.1803 | 15.4539 | 18.196  | 40   | 17.986  | 17.5246 | 16.9293 | 18.0198 | 15.364  | 22.6424 | 18.036  | 13.5989\n",
       "CLP002 | 19.068  | 19.4623 | 17.8717 | 40      | 17.635  | 40    | 40    | 19.0068 | 18.9441 | 18.5572 | 40      | 18.4565 | 40      | 15.7551 | 16.0334 | 40   | 40      | 17.8353 | 17.1828 | 17.8285 | 17.3757 | 40      | 18.6597 | 15.1191\n",
       "CLP003 | 17.7428 | 19.356  | 40      | 19.9412 | 15.8863 | 40    | 40    | 40      | 40      | 18.948  | 16.4138 | 20.1898 | 16.6701 | 16.6486 | 15.2953 | 40   | 40      | 18.6317 | 19.385  | 17.1509 | 17.2826 | 40      | 18.5823 | 15.2665\n",
       "CLP004 | 18.1146 | 18.767  | 18.4627 | 23.5904 | 16.5768 | 40    | 40    | 19.2466 | 19.4505 | 17.7524 | 18.165  | 18.1589 | 16.799  | 16.9698 | 17.4518 | 40   | 17.8275 | 17.8927 | 18.2808 | 17.5093 | 15.8761 | 40      | 18.0251 | 14.7498\n",
       "CLP005 | 19.5837 | 17.4833 | 17.2482 | 20.4202 | 15.7461 | 40    | 40    | 40      | 17.0363 | 18.4543 | 17.5725 | 20.6912 | 17.0085 | 15.8105 | 16.8067 | 40   | 22.667  | 19.4703 | 18.3793 | 17.3982 | 17.1598 | 19.1727 | 17.685  | 14.2408"
      ]
     },
     "execution_count": 21,
     "metadata": {},
     "output_type": "execute_result"
    }
   ],
   "source": [
    "## selecting rows by an index array\n",
    "## np.arange creates an array from 0-4\n",
    "data.take(np.arange(5))"
   ]
  },
  {
   "cell_type": "code",
   "execution_count": 22,
   "metadata": {},
   "outputs": [
    {
     "data": {
      "text/html": [
       "<table border=\"1\" class=\"dataframe\">\n",
       "    <thead>\n",
       "        <tr>\n",
       "            <th>band</th> <th>song</th>\n",
       "        </tr>\n",
       "    </thead>\n",
       "    <tbody>\n",
       "        <tr>\n",
       "            <td>nirvana</td> <td>Lithium</td>\n",
       "        </tr>\n",
       "    </tbody>\n",
       "</table>"
      ],
      "text/plain": [
       "band    | song\n",
       "nirvana | Lithium"
      ]
     },
     "execution_count": 22,
     "metadata": {},
     "output_type": "execute_result"
    }
   ],
   "source": [
    "## select a row equal to a condition\n",
    "songs.where('band',are.equal_to('nirvana'))"
   ]
  },
  {
   "cell_type": "code",
   "execution_count": 23,
   "metadata": {},
   "outputs": [
    {
     "data": {
      "text/html": [
       "<table border=\"1\" class=\"dataframe\">\n",
       "    <thead>\n",
       "        <tr>\n",
       "            <th>Cell</th> <th>Abl1</th> <th>Eif2b1</th> <th>Erg</th> <th>Eto2</th> <th>Fli1</th> <th>Gata1</th> <th>Gata2</th> <th>Gfi1</th> <th>Gfi1b</th> <th>hHex</th> <th>Kit</th> <th>Ldb1</th> <th>Lmo2</th> <th>Lyl1</th> <th>Meis1</th> <th>Mitf</th> <th>Mrpl19</th> <th>Nfe2</th> <th>Polr2a</th> <th>PU.1</th> <th>Runx1</th> <th>SCL</th> <th>Tel</th> <th>Ubc</th>\n",
       "        </tr>\n",
       "    </thead>\n",
       "    <tbody>\n",
       "        <tr>\n",
       "            <td>CLP009</td> <td>40  </td> <td>17.2564</td> <td>19.2361</td> <td>18.3137</td> <td>16.3047</td> <td>40   </td> <td>40   </td> <td>40     </td> <td>16.5051</td> <td>16.3858</td> <td>18.4701</td> <td>19.5447</td> <td>18.741 </td> <td>16.3535</td> <td>18.1053</td> <td>40  </td> <td>16.8132</td> <td>20.3507</td> <td>16.6263</td> <td>16.8331</td> <td>18.0435</td> <td>17.319 </td> <td>17.2022</td> <td>13.2732</td>\n",
       "        </tr>\n",
       "    </tbody>\n",
       "        <tr>\n",
       "            <td>CLP012</td> <td>40  </td> <td>19.4139</td> <td>17.5243</td> <td>19.0365</td> <td>17.5283</td> <td>40   </td> <td>40   </td> <td>40     </td> <td>18.2165</td> <td>17.8341</td> <td>19.1927</td> <td>19.5912</td> <td>18.1633</td> <td>18.6063</td> <td>17.4664</td> <td>40  </td> <td>18.0894</td> <td>19.116 </td> <td>20.4997</td> <td>18.9989</td> <td>16.9491</td> <td>40     </td> <td>19.3583</td> <td>15.1579</td>\n",
       "        </tr>\n",
       "    </tbody>\n",
       "        <tr>\n",
       "            <td>CLP015</td> <td>40  </td> <td>19.3054</td> <td>19.531 </td> <td>20.184 </td> <td>16.6786</td> <td>40   </td> <td>40   </td> <td>40     </td> <td>19.428 </td> <td>40     </td> <td>16.9423</td> <td>16.8196</td> <td>15.3669</td> <td>15.4554</td> <td>17.8137</td> <td>40  </td> <td>16.3367</td> <td>17.3296</td> <td>17.7101</td> <td>16.8801</td> <td>16.0844</td> <td>40     </td> <td>18.4657</td> <td>14.7087</td>\n",
       "        </tr>\n",
       "    </tbody>\n",
       "        <tr>\n",
       "            <td>CLP018</td> <td>40  </td> <td>18.2541</td> <td>40     </td> <td>18.8848</td> <td>17.2011</td> <td>40   </td> <td>40   </td> <td>40     </td> <td>20.2735</td> <td>40     </td> <td>18.0718</td> <td>40     </td> <td>18.0558</td> <td>17.1186</td> <td>17.1703</td> <td>40  </td> <td>40     </td> <td>18.4021</td> <td>17.306 </td> <td>18.1792</td> <td>16.568 </td> <td>19.0195</td> <td>40     </td> <td>15.655 </td>\n",
       "        </tr>\n",
       "    </tbody>\n",
       "        <tr>\n",
       "            <td>CLP026</td> <td>40  </td> <td>19.8061</td> <td>19.5441</td> <td>20.0459</td> <td>15.7801</td> <td>40   </td> <td>40   </td> <td>40     </td> <td>40     </td> <td>40     </td> <td>17.956 </td> <td>18.5044</td> <td>17.2552</td> <td>16.9516</td> <td>20.5999</td> <td>40  </td> <td>18.8033</td> <td>40     </td> <td>18.7046</td> <td>17.0675</td> <td>19.3009</td> <td>40     </td> <td>19.2639</td> <td>16.27  </td>\n",
       "        </tr>\n",
       "    </tbody>\n",
       "        <tr>\n",
       "            <td>CLP028</td> <td>40  </td> <td>17.7082</td> <td>40     </td> <td>19.2864</td> <td>16.61  </td> <td>40   </td> <td>40   </td> <td>19.1161</td> <td>18.9033</td> <td>21.8204</td> <td>18.9544</td> <td>18.3985</td> <td>40     </td> <td>15.5974</td> <td>17.9086</td> <td>40  </td> <td>18.8448</td> <td>18.7636</td> <td>17.6087</td> <td>17.7556</td> <td>16.6419</td> <td>40     </td> <td>17.0081</td> <td>14.069 </td>\n",
       "        </tr>\n",
       "    </tbody>\n",
       "        <tr>\n",
       "            <td>CLP030</td> <td>40  </td> <td>18.2927</td> <td>17.4632</td> <td>19.0042</td> <td>16.5996</td> <td>40   </td> <td>40   </td> <td>19.0549</td> <td>40     </td> <td>18.7367</td> <td>17.2691</td> <td>17.2215</td> <td>40     </td> <td>16.5456</td> <td>16.8851</td> <td>40  </td> <td>17.4579</td> <td>40     </td> <td>18.4178</td> <td>17.1818</td> <td>16.6682</td> <td>21.1878</td> <td>18.4801</td> <td>15.3879</td>\n",
       "        </tr>\n",
       "    </tbody>\n",
       "        <tr>\n",
       "            <td>CLP031</td> <td>40  </td> <td>17.3267</td> <td>40     </td> <td>19.1672</td> <td>15.893 </td> <td>40   </td> <td>40   </td> <td>20.2909</td> <td>40     </td> <td>40     </td> <td>17.2184</td> <td>17.6721</td> <td>16.8289</td> <td>16.8159</td> <td>16.2511</td> <td>40  </td> <td>17.7269</td> <td>20.2966</td> <td>17.9297</td> <td>17.8011</td> <td>16.2824</td> <td>40     </td> <td>20.4539</td> <td>15.0229</td>\n",
       "        </tr>\n",
       "    </tbody>\n",
       "        <tr>\n",
       "            <td>CLP034</td> <td>40  </td> <td>18.2278</td> <td>40     </td> <td>23.3807</td> <td>17.5025</td> <td>40   </td> <td>40   </td> <td>19.2116</td> <td>40     </td> <td>40     </td> <td>17.8321</td> <td>18.1051</td> <td>16.0564</td> <td>17.6883</td> <td>16.8847</td> <td>40  </td> <td>40     </td> <td>20.8044</td> <td>18.1731</td> <td>16.872 </td> <td>17.2783</td> <td>40     </td> <td>19.106 </td> <td>15.8382</td>\n",
       "        </tr>\n",
       "    </tbody>\n",
       "        <tr>\n",
       "            <td>CLP036</td> <td>40  </td> <td>17.5608</td> <td>40     </td> <td>40     </td> <td>15.6041</td> <td>40   </td> <td>40   </td> <td>15.9357</td> <td>16.2313</td> <td>40     </td> <td>19.199 </td> <td>19.9329</td> <td>40     </td> <td>15.749 </td> <td>18.1319</td> <td>40  </td> <td>17.8861</td> <td>20.0771</td> <td>17.7537</td> <td>40     </td> <td>16.5018</td> <td>40     </td> <td>17.6945</td> <td>14.0993</td>\n",
       "        </tr>\n",
       "    </tbody>\n",
       "</table>\n",
       "<p>... (277 rows omitted)</p>"
      ],
      "text/plain": [
       "Cell   | Abl1 | Eif2b1  | Erg     | Eto2    | Fli1    | Gata1 | Gata2 | Gfi1    | Gfi1b   | hHex    | Kit     | Ldb1    | Lmo2    | Lyl1    | Meis1   | Mitf | Mrpl19  | Nfe2    | Polr2a  | PU.1    | Runx1   | SCL     | Tel     | Ubc\n",
       "CLP009 | 40   | 17.2564 | 19.2361 | 18.3137 | 16.3047 | 40    | 40    | 40      | 16.5051 | 16.3858 | 18.4701 | 19.5447 | 18.741  | 16.3535 | 18.1053 | 40   | 16.8132 | 20.3507 | 16.6263 | 16.8331 | 18.0435 | 17.319  | 17.2022 | 13.2732\n",
       "CLP012 | 40   | 19.4139 | 17.5243 | 19.0365 | 17.5283 | 40    | 40    | 40      | 18.2165 | 17.8341 | 19.1927 | 19.5912 | 18.1633 | 18.6063 | 17.4664 | 40   | 18.0894 | 19.116  | 20.4997 | 18.9989 | 16.9491 | 40      | 19.3583 | 15.1579\n",
       "CLP015 | 40   | 19.3054 | 19.531  | 20.184  | 16.6786 | 40    | 40    | 40      | 19.428  | 40      | 16.9423 | 16.8196 | 15.3669 | 15.4554 | 17.8137 | 40   | 16.3367 | 17.3296 | 17.7101 | 16.8801 | 16.0844 | 40      | 18.4657 | 14.7087\n",
       "CLP018 | 40   | 18.2541 | 40      | 18.8848 | 17.2011 | 40    | 40    | 40      | 20.2735 | 40      | 18.0718 | 40      | 18.0558 | 17.1186 | 17.1703 | 40   | 40      | 18.4021 | 17.306  | 18.1792 | 16.568  | 19.0195 | 40      | 15.655\n",
       "CLP026 | 40   | 19.8061 | 19.5441 | 20.0459 | 15.7801 | 40    | 40    | 40      | 40      | 40      | 17.956  | 18.5044 | 17.2552 | 16.9516 | 20.5999 | 40   | 18.8033 | 40      | 18.7046 | 17.0675 | 19.3009 | 40      | 19.2639 | 16.27\n",
       "CLP028 | 40   | 17.7082 | 40      | 19.2864 | 16.61   | 40    | 40    | 19.1161 | 18.9033 | 21.8204 | 18.9544 | 18.3985 | 40      | 15.5974 | 17.9086 | 40   | 18.8448 | 18.7636 | 17.6087 | 17.7556 | 16.6419 | 40      | 17.0081 | 14.069\n",
       "CLP030 | 40   | 18.2927 | 17.4632 | 19.0042 | 16.5996 | 40    | 40    | 19.0549 | 40      | 18.7367 | 17.2691 | 17.2215 | 40      | 16.5456 | 16.8851 | 40   | 17.4579 | 40      | 18.4178 | 17.1818 | 16.6682 | 21.1878 | 18.4801 | 15.3879\n",
       "CLP031 | 40   | 17.3267 | 40      | 19.1672 | 15.893  | 40    | 40    | 20.2909 | 40      | 40      | 17.2184 | 17.6721 | 16.8289 | 16.8159 | 16.2511 | 40   | 17.7269 | 20.2966 | 17.9297 | 17.8011 | 16.2824 | 40      | 20.4539 | 15.0229\n",
       "CLP034 | 40   | 18.2278 | 40      | 23.3807 | 17.5025 | 40    | 40    | 19.2116 | 40      | 40      | 17.8321 | 18.1051 | 16.0564 | 17.6883 | 16.8847 | 40   | 40      | 20.8044 | 18.1731 | 16.872  | 17.2783 | 40      | 19.106  | 15.8382\n",
       "CLP036 | 40   | 17.5608 | 40      | 40      | 15.6041 | 40    | 40    | 15.9357 | 16.2313 | 40      | 19.199  | 19.9329 | 40      | 15.749  | 18.1319 | 40   | 17.8861 | 20.0771 | 17.7537 | 40      | 16.5018 | 40      | 17.6945 | 14.0993\n",
       "... (277 rows omitted)"
      ]
     },
     "execution_count": 23,
     "metadata": {},
     "output_type": "execute_result"
    }
   ],
   "source": [
    "## select rows above some threshold\n",
    "data.where('Abl1',are.above(30))"
   ]
  },
  {
   "cell_type": "code",
   "execution_count": 24,
   "metadata": {},
   "outputs": [
    {
     "data": {
      "text/html": [
       "<table border=\"1\" class=\"dataframe\">\n",
       "    <thead>\n",
       "        <tr>\n",
       "            <th>Cell</th> <th>Abl1</th> <th>Eif2b1</th> <th>Erg</th> <th>Eto2</th> <th>Fli1</th> <th>Gata1</th> <th>Gata2</th> <th>Gfi1</th> <th>Gfi1b</th> <th>hHex</th> <th>Kit</th> <th>Ldb1</th> <th>Lmo2</th> <th>Lyl1</th> <th>Meis1</th> <th>Mitf</th> <th>Mrpl19</th> <th>Nfe2</th> <th>Polr2a</th> <th>PU.1</th> <th>Runx1</th> <th>SCL</th> <th>Tel</th> <th>Ubc</th>\n",
       "        </tr>\n",
       "    </thead>\n",
       "    <tbody>\n",
       "        <tr>\n",
       "            <td>CLP001</td> <td>18.6779</td> <td>16.4591</td> <td>19.6492</td> <td>19.2428</td> <td>15.9151</td> <td>40   </td> <td>40   </td> <td>40     </td> <td>40     </td> <td>40     </td> <td>17.8643</td> <td>16.6687</td> <td>18.1803</td> <td>15.4539</td> <td>18.196 </td> <td>40     </td> <td>17.986 </td> <td>17.5246</td> <td>16.9293</td> <td>18.0198</td> <td>15.364 </td> <td>22.6424</td> <td>18.036 </td> <td>13.5989</td>\n",
       "        </tr>\n",
       "    </tbody>\n",
       "        <tr>\n",
       "            <td>CLP002</td> <td>19.068 </td> <td>19.4623</td> <td>17.8717</td> <td>40     </td> <td>17.635 </td> <td>40   </td> <td>40   </td> <td>19.0068</td> <td>18.9441</td> <td>18.5572</td> <td>40     </td> <td>18.4565</td> <td>40     </td> <td>15.7551</td> <td>16.0334</td> <td>40     </td> <td>40     </td> <td>17.8353</td> <td>17.1828</td> <td>17.8285</td> <td>17.3757</td> <td>40     </td> <td>18.6597</td> <td>15.1191</td>\n",
       "        </tr>\n",
       "    </tbody>\n",
       "        <tr>\n",
       "            <td>CLP003</td> <td>17.7428</td> <td>19.356 </td> <td>40     </td> <td>19.9412</td> <td>15.8863</td> <td>40   </td> <td>40   </td> <td>40     </td> <td>40     </td> <td>18.948 </td> <td>16.4138</td> <td>20.1898</td> <td>16.6701</td> <td>16.6486</td> <td>15.2953</td> <td>40     </td> <td>40     </td> <td>18.6317</td> <td>19.385 </td> <td>17.1509</td> <td>17.2826</td> <td>40     </td> <td>18.5823</td> <td>15.2665</td>\n",
       "        </tr>\n",
       "    </tbody>\n",
       "        <tr>\n",
       "            <td>CLP004</td> <td>18.1146</td> <td>18.767 </td> <td>18.4627</td> <td>23.5904</td> <td>16.5768</td> <td>40   </td> <td>40   </td> <td>19.2466</td> <td>19.4505</td> <td>17.7524</td> <td>18.165 </td> <td>18.1589</td> <td>16.799 </td> <td>16.9698</td> <td>17.4518</td> <td>40     </td> <td>17.8275</td> <td>17.8927</td> <td>18.2808</td> <td>17.5093</td> <td>15.8761</td> <td>40     </td> <td>18.0251</td> <td>14.7498</td>\n",
       "        </tr>\n",
       "    </tbody>\n",
       "        <tr>\n",
       "            <td>CLP005</td> <td>19.5837</td> <td>17.4833</td> <td>17.2482</td> <td>20.4202</td> <td>15.7461</td> <td>40   </td> <td>40   </td> <td>40     </td> <td>17.0363</td> <td>18.4543</td> <td>17.5725</td> <td>20.6912</td> <td>17.0085</td> <td>15.8105</td> <td>16.8067</td> <td>40     </td> <td>22.667 </td> <td>19.4703</td> <td>18.3793</td> <td>17.3982</td> <td>17.1598</td> <td>19.1727</td> <td>17.685 </td> <td>14.2408</td>\n",
       "        </tr>\n",
       "    </tbody>\n",
       "        <tr>\n",
       "            <td>CLP006</td> <td>18.186 </td> <td>17.1292</td> <td>17.5487</td> <td>40     </td> <td>17.6252</td> <td>40   </td> <td>40   </td> <td>23.2387</td> <td>19.3446</td> <td>40     </td> <td>17.96  </td> <td>17.9261</td> <td>16.8787</td> <td>16.384 </td> <td>18.1375</td> <td>40     </td> <td>18.9695</td> <td>19.2332</td> <td>17.1994</td> <td>16.2727</td> <td>16.4562</td> <td>40     </td> <td>17.5681</td> <td>14.7022</td>\n",
       "        </tr>\n",
       "    </tbody>\n",
       "        <tr>\n",
       "            <td>CLP007</td> <td>19.5858</td> <td>17.5059</td> <td>16.9023</td> <td>20.1329</td> <td>15.0726</td> <td>40   </td> <td>40   </td> <td>40     </td> <td>18.5438</td> <td>17.7092</td> <td>18.6375</td> <td>19.396 </td> <td>18.3641</td> <td>15.0084</td> <td>15.9826</td> <td>40     </td> <td>17.8951</td> <td>20.1142</td> <td>17.3041</td> <td>17.5587</td> <td>16.0459</td> <td>25.2539</td> <td>18.4053</td> <td>14.582 </td>\n",
       "        </tr>\n",
       "    </tbody>\n",
       "        <tr>\n",
       "            <td>CLP008</td> <td>19.7788</td> <td>17.1802</td> <td>16.6985</td> <td>19.54  </td> <td>15.8982</td> <td>40   </td> <td>40   </td> <td>17.497 </td> <td>20.3457</td> <td>18.5086</td> <td>19.3171</td> <td>18.4221</td> <td>15.7705</td> <td>15.7099</td> <td>15.8852</td> <td>19.5119</td> <td>17.9837</td> <td>20.7401</td> <td>16.747 </td> <td>16.5715</td> <td>15.9555</td> <td>40     </td> <td>18.9303</td> <td>13.2391</td>\n",
       "        </tr>\n",
       "    </tbody>\n",
       "        <tr>\n",
       "            <td>CLP010</td> <td>17.0894</td> <td>17.5316</td> <td>17.1864</td> <td>23.7205</td> <td>15.6409</td> <td>40   </td> <td>40   </td> <td>17.4994</td> <td>20.8113</td> <td>16.5733</td> <td>16.6343</td> <td>18.2841</td> <td>16.1988</td> <td>16.3586</td> <td>15.9203</td> <td>40     </td> <td>17.1452</td> <td>18.1469</td> <td>16.9478</td> <td>16.3117</td> <td>15.5373</td> <td>40     </td> <td>18.6297</td> <td>13.8124</td>\n",
       "        </tr>\n",
       "    </tbody>\n",
       "        <tr>\n",
       "            <td>CLP011</td> <td>18.5784</td> <td>20.2926</td> <td>40     </td> <td>19.8663</td> <td>16.1186</td> <td>40   </td> <td>40   </td> <td>40     </td> <td>40     </td> <td>18.8711</td> <td>17.5977</td> <td>40     </td> <td>40     </td> <td>18.8181</td> <td>18.0361</td> <td>40     </td> <td>18.0305</td> <td>18.5331</td> <td>18.5116</td> <td>16.8217</td> <td>17.0705</td> <td>25.4655</td> <td>17.6487</td> <td>14.9107</td>\n",
       "        </tr>\n",
       "    </tbody>\n",
       "</table>\n",
       "<p>... (293 rows omitted)</p>"
      ],
      "text/plain": [
       "Cell   | Abl1    | Eif2b1  | Erg     | Eto2    | Fli1    | Gata1 | Gata2 | Gfi1    | Gfi1b   | hHex    | Kit     | Ldb1    | Lmo2    | Lyl1    | Meis1   | Mitf    | Mrpl19  | Nfe2    | Polr2a  | PU.1    | Runx1   | SCL     | Tel     | Ubc\n",
       "CLP001 | 18.6779 | 16.4591 | 19.6492 | 19.2428 | 15.9151 | 40    | 40    | 40      | 40      | 40      | 17.8643 | 16.6687 | 18.1803 | 15.4539 | 18.196  | 40      | 17.986  | 17.5246 | 16.9293 | 18.0198 | 15.364  | 22.6424 | 18.036  | 13.5989\n",
       "CLP002 | 19.068  | 19.4623 | 17.8717 | 40      | 17.635  | 40    | 40    | 19.0068 | 18.9441 | 18.5572 | 40      | 18.4565 | 40      | 15.7551 | 16.0334 | 40      | 40      | 17.8353 | 17.1828 | 17.8285 | 17.3757 | 40      | 18.6597 | 15.1191\n",
       "CLP003 | 17.7428 | 19.356  | 40      | 19.9412 | 15.8863 | 40    | 40    | 40      | 40      | 18.948  | 16.4138 | 20.1898 | 16.6701 | 16.6486 | 15.2953 | 40      | 40      | 18.6317 | 19.385  | 17.1509 | 17.2826 | 40      | 18.5823 | 15.2665\n",
       "CLP004 | 18.1146 | 18.767  | 18.4627 | 23.5904 | 16.5768 | 40    | 40    | 19.2466 | 19.4505 | 17.7524 | 18.165  | 18.1589 | 16.799  | 16.9698 | 17.4518 | 40      | 17.8275 | 17.8927 | 18.2808 | 17.5093 | 15.8761 | 40      | 18.0251 | 14.7498\n",
       "CLP005 | 19.5837 | 17.4833 | 17.2482 | 20.4202 | 15.7461 | 40    | 40    | 40      | 17.0363 | 18.4543 | 17.5725 | 20.6912 | 17.0085 | 15.8105 | 16.8067 | 40      | 22.667  | 19.4703 | 18.3793 | 17.3982 | 17.1598 | 19.1727 | 17.685  | 14.2408\n",
       "CLP006 | 18.186  | 17.1292 | 17.5487 | 40      | 17.6252 | 40    | 40    | 23.2387 | 19.3446 | 40      | 17.96   | 17.9261 | 16.8787 | 16.384  | 18.1375 | 40      | 18.9695 | 19.2332 | 17.1994 | 16.2727 | 16.4562 | 40      | 17.5681 | 14.7022\n",
       "CLP007 | 19.5858 | 17.5059 | 16.9023 | 20.1329 | 15.0726 | 40    | 40    | 40      | 18.5438 | 17.7092 | 18.6375 | 19.396  | 18.3641 | 15.0084 | 15.9826 | 40      | 17.8951 | 20.1142 | 17.3041 | 17.5587 | 16.0459 | 25.2539 | 18.4053 | 14.582\n",
       "CLP008 | 19.7788 | 17.1802 | 16.6985 | 19.54   | 15.8982 | 40    | 40    | 17.497  | 20.3457 | 18.5086 | 19.3171 | 18.4221 | 15.7705 | 15.7099 | 15.8852 | 19.5119 | 17.9837 | 20.7401 | 16.747  | 16.5715 | 15.9555 | 40      | 18.9303 | 13.2391\n",
       "CLP010 | 17.0894 | 17.5316 | 17.1864 | 23.7205 | 15.6409 | 40    | 40    | 17.4994 | 20.8113 | 16.5733 | 16.6343 | 18.2841 | 16.1988 | 16.3586 | 15.9203 | 40      | 17.1452 | 18.1469 | 16.9478 | 16.3117 | 15.5373 | 40      | 18.6297 | 13.8124\n",
       "CLP011 | 18.5784 | 20.2926 | 40      | 19.8663 | 16.1186 | 40    | 40    | 40      | 40      | 18.8711 | 17.5977 | 40      | 40      | 18.8181 | 18.0361 | 40      | 18.0305 | 18.5331 | 18.5116 | 16.8217 | 17.0705 | 25.4655 | 17.6487 | 14.9107\n",
       "... (293 rows omitted)"
      ]
     },
     "execution_count": 24,
     "metadata": {},
     "output_type": "execute_result"
    }
   ],
   "source": [
    "## select data where rows are below some \n",
    "## threshold value\n",
    "data.where('Abl1',are.below(20))"
   ]
  },
  {
   "cell_type": "code",
   "execution_count": 25,
   "metadata": {},
   "outputs": [
    {
     "data": {
      "text/html": [
       "<table border=\"1\" class=\"dataframe\">\n",
       "    <thead>\n",
       "        <tr>\n",
       "            <th>Cell</th> <th>Abl1</th> <th>Eif2b1</th> <th>Erg</th> <th>Eto2</th> <th>Fli1</th> <th>Gata1</th> <th>Gata2</th> <th>Gfi1</th> <th>Gfi1b</th> <th>hHex</th> <th>Kit</th> <th>Ldb1</th> <th>Lmo2</th> <th>Lyl1</th> <th>Meis1</th> <th>Mitf</th> <th>Mrpl19</th> <th>Nfe2</th> <th>Polr2a</th> <th>PU.1</th> <th>Runx1</th> <th>SCL</th> <th>Tel</th> <th>Ubc</th>\n",
       "        </tr>\n",
       "    </thead>\n",
       "    <tbody>\n",
       "        <tr>\n",
       "            <td>CLP001</td> <td>18.6779</td> <td>16.4591</td> <td>19.6492</td> <td>19.2428</td> <td>15.9151</td> <td>40   </td> <td>40   </td> <td>40     </td> <td>40     </td> <td>40     </td> <td>17.8643</td> <td>16.6687</td> <td>18.1803</td> <td>15.4539</td> <td>18.196 </td> <td>40     </td> <td>17.986 </td> <td>17.5246</td> <td>16.9293</td> <td>18.0198</td> <td>15.364 </td> <td>22.6424</td> <td>18.036 </td> <td>13.5989</td>\n",
       "        </tr>\n",
       "    </tbody>\n",
       "        <tr>\n",
       "            <td>CLP002</td> <td>19.068 </td> <td>19.4623</td> <td>17.8717</td> <td>40     </td> <td>17.635 </td> <td>40   </td> <td>40   </td> <td>19.0068</td> <td>18.9441</td> <td>18.5572</td> <td>40     </td> <td>18.4565</td> <td>40     </td> <td>15.7551</td> <td>16.0334</td> <td>40     </td> <td>40     </td> <td>17.8353</td> <td>17.1828</td> <td>17.8285</td> <td>17.3757</td> <td>40     </td> <td>18.6597</td> <td>15.1191</td>\n",
       "        </tr>\n",
       "    </tbody>\n",
       "        <tr>\n",
       "            <td>CLP003</td> <td>17.7428</td> <td>19.356 </td> <td>40     </td> <td>19.9412</td> <td>15.8863</td> <td>40   </td> <td>40   </td> <td>40     </td> <td>40     </td> <td>18.948 </td> <td>16.4138</td> <td>20.1898</td> <td>16.6701</td> <td>16.6486</td> <td>15.2953</td> <td>40     </td> <td>40     </td> <td>18.6317</td> <td>19.385 </td> <td>17.1509</td> <td>17.2826</td> <td>40     </td> <td>18.5823</td> <td>15.2665</td>\n",
       "        </tr>\n",
       "    </tbody>\n",
       "        <tr>\n",
       "            <td>CLP004</td> <td>18.1146</td> <td>18.767 </td> <td>18.4627</td> <td>23.5904</td> <td>16.5768</td> <td>40   </td> <td>40   </td> <td>19.2466</td> <td>19.4505</td> <td>17.7524</td> <td>18.165 </td> <td>18.1589</td> <td>16.799 </td> <td>16.9698</td> <td>17.4518</td> <td>40     </td> <td>17.8275</td> <td>17.8927</td> <td>18.2808</td> <td>17.5093</td> <td>15.8761</td> <td>40     </td> <td>18.0251</td> <td>14.7498</td>\n",
       "        </tr>\n",
       "    </tbody>\n",
       "        <tr>\n",
       "            <td>CLP005</td> <td>19.5837</td> <td>17.4833</td> <td>17.2482</td> <td>20.4202</td> <td>15.7461</td> <td>40   </td> <td>40   </td> <td>40     </td> <td>17.0363</td> <td>18.4543</td> <td>17.5725</td> <td>20.6912</td> <td>17.0085</td> <td>15.8105</td> <td>16.8067</td> <td>40     </td> <td>22.667 </td> <td>19.4703</td> <td>18.3793</td> <td>17.3982</td> <td>17.1598</td> <td>19.1727</td> <td>17.685 </td> <td>14.2408</td>\n",
       "        </tr>\n",
       "    </tbody>\n",
       "        <tr>\n",
       "            <td>CLP006</td> <td>18.186 </td> <td>17.1292</td> <td>17.5487</td> <td>40     </td> <td>17.6252</td> <td>40   </td> <td>40   </td> <td>23.2387</td> <td>19.3446</td> <td>40     </td> <td>17.96  </td> <td>17.9261</td> <td>16.8787</td> <td>16.384 </td> <td>18.1375</td> <td>40     </td> <td>18.9695</td> <td>19.2332</td> <td>17.1994</td> <td>16.2727</td> <td>16.4562</td> <td>40     </td> <td>17.5681</td> <td>14.7022</td>\n",
       "        </tr>\n",
       "    </tbody>\n",
       "        <tr>\n",
       "            <td>CLP007</td> <td>19.5858</td> <td>17.5059</td> <td>16.9023</td> <td>20.1329</td> <td>15.0726</td> <td>40   </td> <td>40   </td> <td>40     </td> <td>18.5438</td> <td>17.7092</td> <td>18.6375</td> <td>19.396 </td> <td>18.3641</td> <td>15.0084</td> <td>15.9826</td> <td>40     </td> <td>17.8951</td> <td>20.1142</td> <td>17.3041</td> <td>17.5587</td> <td>16.0459</td> <td>25.2539</td> <td>18.4053</td> <td>14.582 </td>\n",
       "        </tr>\n",
       "    </tbody>\n",
       "        <tr>\n",
       "            <td>CLP008</td> <td>19.7788</td> <td>17.1802</td> <td>16.6985</td> <td>19.54  </td> <td>15.8982</td> <td>40   </td> <td>40   </td> <td>17.497 </td> <td>20.3457</td> <td>18.5086</td> <td>19.3171</td> <td>18.4221</td> <td>15.7705</td> <td>15.7099</td> <td>15.8852</td> <td>19.5119</td> <td>17.9837</td> <td>20.7401</td> <td>16.747 </td> <td>16.5715</td> <td>15.9555</td> <td>40     </td> <td>18.9303</td> <td>13.2391</td>\n",
       "        </tr>\n",
       "    </tbody>\n",
       "        <tr>\n",
       "            <td>CLP010</td> <td>17.0894</td> <td>17.5316</td> <td>17.1864</td> <td>23.7205</td> <td>15.6409</td> <td>40   </td> <td>40   </td> <td>17.4994</td> <td>20.8113</td> <td>16.5733</td> <td>16.6343</td> <td>18.2841</td> <td>16.1988</td> <td>16.3586</td> <td>15.9203</td> <td>40     </td> <td>17.1452</td> <td>18.1469</td> <td>16.9478</td> <td>16.3117</td> <td>15.5373</td> <td>40     </td> <td>18.6297</td> <td>13.8124</td>\n",
       "        </tr>\n",
       "    </tbody>\n",
       "        <tr>\n",
       "            <td>CLP011</td> <td>18.5784</td> <td>20.2926</td> <td>40     </td> <td>19.8663</td> <td>16.1186</td> <td>40   </td> <td>40   </td> <td>40     </td> <td>40     </td> <td>18.8711</td> <td>17.5977</td> <td>40     </td> <td>40     </td> <td>18.8181</td> <td>18.0361</td> <td>40     </td> <td>18.0305</td> <td>18.5331</td> <td>18.5116</td> <td>16.8217</td> <td>17.0705</td> <td>25.4655</td> <td>17.6487</td> <td>14.9107</td>\n",
       "        </tr>\n",
       "    </tbody>\n",
       "</table>\n",
       "<p>... (322 rows omitted)</p>"
      ],
      "text/plain": [
       "Cell   | Abl1    | Eif2b1  | Erg     | Eto2    | Fli1    | Gata1 | Gata2 | Gfi1    | Gfi1b   | hHex    | Kit     | Ldb1    | Lmo2    | Lyl1    | Meis1   | Mitf    | Mrpl19  | Nfe2    | Polr2a  | PU.1    | Runx1   | SCL     | Tel     | Ubc\n",
       "CLP001 | 18.6779 | 16.4591 | 19.6492 | 19.2428 | 15.9151 | 40    | 40    | 40      | 40      | 40      | 17.8643 | 16.6687 | 18.1803 | 15.4539 | 18.196  | 40      | 17.986  | 17.5246 | 16.9293 | 18.0198 | 15.364  | 22.6424 | 18.036  | 13.5989\n",
       "CLP002 | 19.068  | 19.4623 | 17.8717 | 40      | 17.635  | 40    | 40    | 19.0068 | 18.9441 | 18.5572 | 40      | 18.4565 | 40      | 15.7551 | 16.0334 | 40      | 40      | 17.8353 | 17.1828 | 17.8285 | 17.3757 | 40      | 18.6597 | 15.1191\n",
       "CLP003 | 17.7428 | 19.356  | 40      | 19.9412 | 15.8863 | 40    | 40    | 40      | 40      | 18.948  | 16.4138 | 20.1898 | 16.6701 | 16.6486 | 15.2953 | 40      | 40      | 18.6317 | 19.385  | 17.1509 | 17.2826 | 40      | 18.5823 | 15.2665\n",
       "CLP004 | 18.1146 | 18.767  | 18.4627 | 23.5904 | 16.5768 | 40    | 40    | 19.2466 | 19.4505 | 17.7524 | 18.165  | 18.1589 | 16.799  | 16.9698 | 17.4518 | 40      | 17.8275 | 17.8927 | 18.2808 | 17.5093 | 15.8761 | 40      | 18.0251 | 14.7498\n",
       "CLP005 | 19.5837 | 17.4833 | 17.2482 | 20.4202 | 15.7461 | 40    | 40    | 40      | 17.0363 | 18.4543 | 17.5725 | 20.6912 | 17.0085 | 15.8105 | 16.8067 | 40      | 22.667  | 19.4703 | 18.3793 | 17.3982 | 17.1598 | 19.1727 | 17.685  | 14.2408\n",
       "CLP006 | 18.186  | 17.1292 | 17.5487 | 40      | 17.6252 | 40    | 40    | 23.2387 | 19.3446 | 40      | 17.96   | 17.9261 | 16.8787 | 16.384  | 18.1375 | 40      | 18.9695 | 19.2332 | 17.1994 | 16.2727 | 16.4562 | 40      | 17.5681 | 14.7022\n",
       "CLP007 | 19.5858 | 17.5059 | 16.9023 | 20.1329 | 15.0726 | 40    | 40    | 40      | 18.5438 | 17.7092 | 18.6375 | 19.396  | 18.3641 | 15.0084 | 15.9826 | 40      | 17.8951 | 20.1142 | 17.3041 | 17.5587 | 16.0459 | 25.2539 | 18.4053 | 14.582\n",
       "CLP008 | 19.7788 | 17.1802 | 16.6985 | 19.54   | 15.8982 | 40    | 40    | 17.497  | 20.3457 | 18.5086 | 19.3171 | 18.4221 | 15.7705 | 15.7099 | 15.8852 | 19.5119 | 17.9837 | 20.7401 | 16.747  | 16.5715 | 15.9555 | 40      | 18.9303 | 13.2391\n",
       "CLP010 | 17.0894 | 17.5316 | 17.1864 | 23.7205 | 15.6409 | 40    | 40    | 17.4994 | 20.8113 | 16.5733 | 16.6343 | 18.2841 | 16.1988 | 16.3586 | 15.9203 | 40      | 17.1452 | 18.1469 | 16.9478 | 16.3117 | 15.5373 | 40      | 18.6297 | 13.8124\n",
       "CLP011 | 18.5784 | 20.2926 | 40      | 19.8663 | 16.1186 | 40    | 40    | 40      | 40      | 18.8711 | 17.5977 | 40      | 40      | 18.8181 | 18.0361 | 40      | 18.0305 | 18.5331 | 18.5116 | 16.8217 | 17.0705 | 25.4655 | 17.6487 | 14.9107\n",
       "... (322 rows omitted)"
      ]
     },
     "execution_count": 25,
     "metadata": {},
     "output_type": "execute_result"
    }
   ],
   "source": [
    "## select rows with values between some interval\n",
    "data.where('Abl1',are.between(15,25))"
   ]
  },
  {
   "cell_type": "code",
   "execution_count": 26,
   "metadata": {},
   "outputs": [
    {
     "data": {
      "text/html": [
       "<table border=\"1\" class=\"dataframe\">\n",
       "    <thead>\n",
       "        <tr>\n",
       "            <th>Cell</th> <th>Abl1</th>\n",
       "        </tr>\n",
       "    </thead>\n",
       "    <tbody>\n",
       "        <tr>\n",
       "            <td>CLP001</td> <td>18.6779</td>\n",
       "        </tr>\n",
       "    </tbody>\n",
       "        <tr>\n",
       "            <td>CLP002</td> <td>19.068 </td>\n",
       "        </tr>\n",
       "    </tbody>\n",
       "        <tr>\n",
       "            <td>CLP003</td> <td>17.7428</td>\n",
       "        </tr>\n",
       "    </tbody>\n",
       "        <tr>\n",
       "            <td>CLP004</td> <td>18.1146</td>\n",
       "        </tr>\n",
       "    </tbody>\n",
       "        <tr>\n",
       "            <td>CLP005</td> <td>19.5837</td>\n",
       "        </tr>\n",
       "    </tbody>\n",
       "</table>\n",
       "<p>... (615 rows omitted)</p>"
      ],
      "text/plain": [
       "<IPython.core.display.HTML object>"
      ]
     },
     "metadata": {},
     "output_type": "display_data"
    }
   ],
   "source": [
    "## select columns from data\n",
    "data_norm = data.select(\"Cell\",\"Abl1\")\n",
    "data_norm.show(5)"
   ]
  },
  {
   "cell_type": "code",
   "execution_count": 27,
   "metadata": {},
   "outputs": [
    {
     "data": {
      "text/html": [
       "<table border=\"1\" class=\"dataframe\">\n",
       "    <thead>\n",
       "        <tr>\n",
       "            <th>Cell</th> <th>Abl1</th> <th>normalized</th>\n",
       "        </tr>\n",
       "    </thead>\n",
       "    <tbody>\n",
       "        <tr>\n",
       "            <td>CLP001</td> <td>18.6779</td> <td>-0.985573 </td>\n",
       "        </tr>\n",
       "    </tbody>\n",
       "        <tr>\n",
       "            <td>CLP002</td> <td>19.068 </td> <td>-0.947886 </td>\n",
       "        </tr>\n",
       "    </tbody>\n",
       "        <tr>\n",
       "            <td>CLP003</td> <td>17.7428</td> <td>-1.07589  </td>\n",
       "        </tr>\n",
       "    </tbody>\n",
       "        <tr>\n",
       "            <td>CLP004</td> <td>18.1146</td> <td>-1.03998  </td>\n",
       "        </tr>\n",
       "    </tbody>\n",
       "        <tr>\n",
       "            <td>CLP005</td> <td>19.5837</td> <td>-0.898078 </td>\n",
       "        </tr>\n",
       "    </tbody>\n",
       "</table>\n",
       "<p>... (615 rows omitted)</p>"
      ],
      "text/plain": [
       "<IPython.core.display.HTML object>"
      ]
     },
     "metadata": {},
     "output_type": "display_data"
    }
   ],
   "source": [
    "## performing operations with columns\n",
    "data_norm = data_norm.with_column(\n",
    "    'normalized', ( data.column('Abl1') - np.mean(data.column('Abl1')) ) \n",
    "                     / np.std( data.column('Abl1') )        \n",
    ")\n",
    "data_norm.show(5)"
   ]
  },
  {
   "cell_type": "code",
   "execution_count": 28,
   "metadata": {},
   "outputs": [
    {
     "data": {
      "text/plain": [
       "array([ 19.07,  17.74,  18.11,  19.58])"
      ]
     },
     "execution_count": 28,
     "metadata": {},
     "output_type": "execute_result"
    }
   ],
   "source": [
    "## define a funcion to use in apply\n",
    "def rounder(x):\n",
    "    \"\"\" Rounding function to 2 decimals\n",
    "    \"\"\"\n",
    "    return round(x,2)\n",
    "\n",
    "\n",
    "## using apply to iterate a function over column\n",
    "data_norm.apply(rounder,'Abl1')[1:5]"
   ]
  },
  {
   "cell_type": "code",
   "execution_count": 29,
   "metadata": {},
   "outputs": [
    {
     "data": {
      "image/png": "[encoded data removed]",
      "text/plain": [
       "<matplotlib.figure.Figure at 0x7fa1a4dee128>"
      ]
     },
     "metadata": {},
     "output_type": "display_data"
    }
   ],
   "source": [
    "## formatting data\n",
    "data_norm = data_norm.with_column(\n",
    "    'index', np.arange(data_norm.num_rows)\n",
    ")\n",
    "data_for_plot = data_norm.where(\"Cell\",are.containing(\"CLP\")).select(\"index\",\"normalized\")\n",
    "\n",
    "## plotting the data\n",
    "data_for_plot.plot(\"index\")"
   ]
  },
  {
   "cell_type": "code",
   "execution_count": 30,
   "metadata": {},
   "outputs": [
    {
     "data": {
      "text/html": [
       "<table border=\"1\" class=\"dataframe\">\n",
       "    <thead>\n",
       "        <tr>\n",
       "            <th>band</th> <th>song</th>\n",
       "        </tr>\n",
       "    </thead>\n",
       "    <tbody>\n",
       "        <tr>\n",
       "            <td>nirvana     </td> <td>Lithium                </td>\n",
       "        </tr>\n",
       "    </tbody>\n",
       "        <tr>\n",
       "            <td>guns n roses</td> <td>November Rain          </td>\n",
       "        </tr>\n",
       "    </tbody>\n",
       "        <tr>\n",
       "            <td>Ramones     </td> <td>Sheena is a punk rocker</td>\n",
       "        </tr>\n",
       "    </tbody>\n",
       "</table>"
      ],
      "text/plain": [
       "band         | song\n",
       "nirvana      | Lithium\n",
       "guns n roses | November Rain\n",
       "Ramones      | Sheena is a punk rocker"
      ]
     },
     "execution_count": 30,
     "metadata": {},
     "output_type": "execute_result"
    }
   ],
   "source": [
    "## adding new row\n",
    "## rows are lists\n",
    "songs.with_row(['Ramones',\"Sheena is a punk rocker\"])"
   ]
  },
  {
   "cell_type": "code",
   "execution_count": 31,
   "metadata": {},
   "outputs": [
    {
     "data": {
      "text/html": [
       "<table border=\"1\" class=\"dataframe\">\n",
       "    <thead>\n",
       "        <tr>\n",
       "            <th>year</th> <th>imdb</th> <th>title</th> <th>test</th> <th>clean_test</th> <th>binary</th> <th>budget</th> <th>domgross</th> <th>intgross</th> <th>code</th> <th>budget_2013$</th> <th>domgross_2013$</th> <th>intgross_2013$</th> <th>period code</th> <th>decade code</th>\n",
       "        </tr>\n",
       "    </thead>\n",
       "    <tbody>\n",
       "        <tr>\n",
       "            <td>2013</td> <td>tt1711425</td> <td>21 &amp; Over   </td> <td>notalk         </td> <td>notalk    </td> <td>FAIL  </td> <td>13000000</td> <td>2.56824e+07</td> <td>4.21958e+07</td> <td>2013FAIL</td> <td>13000000    </td> <td>2.56824e+07   </td> <td>4.21958e+07   </td> <td>1          </td> <td>1          </td>\n",
       "        </tr>\n",
       "    </tbody>\n",
       "        <tr>\n",
       "            <td>2012</td> <td>tt1343727</td> <td>Dredd 3D        </td> <td>ok-disagree    </td> <td>ok        </td> <td>PASS  </td> <td>45000000</td> <td>1.34147e+07</td> <td>4.0869e+07 </td> <td>2012PASS</td> <td>45658735    </td> <td>1.36111e+07   </td> <td>4.14673e+07   </td> <td>1          </td> <td>1          </td>\n",
       "        </tr>\n",
       "    </tbody>\n",
       "        <tr>\n",
       "            <td>2013</td> <td>tt2024544</td> <td>12 Years a Slave</td> <td>notalk-disagree</td> <td>notalk    </td> <td>FAIL  </td> <td>20000000</td> <td>5.3107e+07 </td> <td>1.58607e+08</td> <td>2013FAIL</td> <td>20000000    </td> <td>5.3107e+07    </td> <td>1.58607e+08   </td> <td>1          </td> <td>1          </td>\n",
       "        </tr>\n",
       "    </tbody>\n",
       "</table>\n",
       "<p>... (1791 rows omitted)</p>"
      ],
      "text/plain": [
       "<IPython.core.display.HTML object>"
      ]
     },
     "metadata": {},
     "output_type": "display_data"
    }
   ],
   "source": [
    "## reading movies data\n",
    "movies = Table.read_table(\"https://raw.githubusercontent.com/fivethirtyeight/data/master/bechdel/movies.csv\")\n",
    "movies.show(3)"
   ]
  },
  {
   "cell_type": "code",
   "execution_count": 36,
   "metadata": {},
   "outputs": [
    {
     "data": {
      "text/html": [
       "<table border=\"1\" class=\"dataframe\">\n",
       "    <thead>\n",
       "        <tr>\n",
       "            <th>year</th> <th>count</th>\n",
       "        </tr>\n",
       "    </thead>\n",
       "    <tbody>\n",
       "        <tr>\n",
       "            <td>1970</td> <td>1    </td>\n",
       "        </tr>\n",
       "    </tbody>\n",
       "        <tr>\n",
       "            <td>1971</td> <td>5    </td>\n",
       "        </tr>\n",
       "    </tbody>\n",
       "        <tr>\n",
       "            <td>1972</td> <td>3    </td>\n",
       "        </tr>\n",
       "    </tbody>\n",
       "        <tr>\n",
       "            <td>1973</td> <td>5    </td>\n",
       "        </tr>\n",
       "    </tbody>\n",
       "        <tr>\n",
       "            <td>1974</td> <td>7    </td>\n",
       "        </tr>\n",
       "    </tbody>\n",
       "        <tr>\n",
       "            <td>1975</td> <td>5    </td>\n",
       "        </tr>\n",
       "    </tbody>\n",
       "        <tr>\n",
       "            <td>1976</td> <td>8    </td>\n",
       "        </tr>\n",
       "    </tbody>\n",
       "        <tr>\n",
       "            <td>1977</td> <td>7    </td>\n",
       "        </tr>\n",
       "    </tbody>\n",
       "        <tr>\n",
       "            <td>1978</td> <td>8    </td>\n",
       "        </tr>\n",
       "    </tbody>\n",
       "        <tr>\n",
       "            <td>1979</td> <td>5    </td>\n",
       "        </tr>\n",
       "    </tbody>\n",
       "</table>\n",
       "<p>... (34 rows omitted)</p>"
      ],
      "text/plain": [
       "year | count\n",
       "1970 | 1\n",
       "1971 | 5\n",
       "1972 | 3\n",
       "1973 | 5\n",
       "1974 | 7\n",
       "1975 | 5\n",
       "1976 | 8\n",
       "1977 | 7\n",
       "1978 | 8\n",
       "1979 | 5\n",
       "... (34 rows omitted)"
      ]
     },
     "execution_count": 36,
     "metadata": {},
     "output_type": "execute_result"
    }
   ],
   "source": [
    "## count the number of grouped entries \n",
    "movies.group(\"year\")"
   ]
  },
  {
   "cell_type": "code",
   "execution_count": 38,
   "metadata": {},
   "outputs": [
    {
     "data": {
      "text/html": [
       "<table border=\"1\" class=\"dataframe\">\n",
       "    <thead>\n",
       "        <tr>\n",
       "            <th>facturacion</th> <th>ventas</th> <th>fecha_pago</th> <th>anio_pago</th> <th>tipo_orden</th> <th>vertical</th> <th>categoria</th> <th>estado_trabajo</th> <th>reseller</th> <th>tipo_reseller</th> <th>tipo_job</th>\n",
       "        </tr>\n",
       "    </thead>\n",
       "    <tbody>\n",
       "        <tr>\n",
       "            <td>597        </td> <td>3     </td> <td>2017-01-24</td> <td>2017     </td> <td>JOB_INSTALLATION</td> <td>Hogar   </td> <td>Plomero        </td> <td>Finalizado                 </td> <td>Iguanafix_online</td> <td>B2C          </td> <td>VISIT         </td>\n",
       "        </tr>\n",
       "    </tbody>\n",
       "        <tr>\n",
       "            <td>0          </td> <td>2     </td> <td>2017-08-30</td> <td>2017     </td> <td>JOB_INSTALLATION</td> <td>Hogar   </td> <td>Impermeabilizar</td> <td>Profesional_marco_terminado</td> <td>Iguanafix_online</td> <td>B2C          </td> <td>VISIT         </td>\n",
       "        </tr>\n",
       "    </tbody>\n",
       "        <tr>\n",
       "            <td>1153       </td> <td>2     </td> <td>2017-06-01</td> <td>2017     </td> <td>JOB_INSTALLATION</td> <td>Hogar   </td> <td>Plomero        </td> <td>Finalizado                 </td> <td>IguanaFix       </td> <td>B2C          </td> <td>CUSTOM_PROJECT</td>\n",
       "        </tr>\n",
       "    </tbody>\n",
       "        <tr>\n",
       "            <td>0          </td> <td>2     </td> <td>2017-11-23</td> <td>2017     </td> <td>DISCOUNT        </td> <td>Hogar   </td> <td>nan            </td> <td>nan                        </td> <td>Iguanafix_online</td> <td>B2C          </td> <td>nan           </td>\n",
       "        </tr>\n",
       "    </tbody>\n",
       "        <tr>\n",
       "            <td>0          </td> <td>3     </td> <td>2016-01-11</td> <td>2016     </td> <td>DISCOUNT        </td> <td>Hogar   </td> <td>nan            </td> <td>nan                        </td> <td>Iguanafix_online</td> <td>B2C          </td> <td>nan           </td>\n",
       "        </tr>\n",
       "    </tbody>\n",
       "</table>\n",
       "<p>... (9375 rows omitted)</p>"
      ],
      "text/plain": [
       "<IPython.core.display.HTML object>"
      ]
     },
     "metadata": {},
     "output_type": "display_data"
    }
   ],
   "source": [
    "## reading data to aggregate\n",
    "revenues = Table.read_table('/home/carlos/scripts/dataScience/data/RevenuesDynamicalltime_2017-12-18_1030.csv')\n",
    "revenues.show(5)"
   ]
  },
  {
   "cell_type": "code",
   "execution_count": 40,
   "metadata": {},
   "outputs": [
    {
     "data": {
      "text/html": [
       "<table border=\"1\" class=\"dataframe\">\n",
       "    <thead>\n",
       "        <tr>\n",
       "            <th>facturacion</th> <th>categoria</th> <th>tipo_job</th>\n",
       "        </tr>\n",
       "    </thead>\n",
       "    <tbody>\n",
       "        <tr>\n",
       "            <td>597        </td> <td>Plomero        </td> <td>VISIT         </td>\n",
       "        </tr>\n",
       "    </tbody>\n",
       "        <tr>\n",
       "            <td>0          </td> <td>Impermeabilizar</td> <td>VISIT         </td>\n",
       "        </tr>\n",
       "    </tbody>\n",
       "        <tr>\n",
       "            <td>1153       </td> <td>Plomero        </td> <td>CUSTOM_PROJECT</td>\n",
       "        </tr>\n",
       "    </tbody>\n",
       "        <tr>\n",
       "            <td>0          </td> <td>nan            </td> <td>nan           </td>\n",
       "        </tr>\n",
       "    </tbody>\n",
       "        <tr>\n",
       "            <td>0          </td> <td>nan            </td> <td>nan           </td>\n",
       "        </tr>\n",
       "    </tbody>\n",
       "</table>\n",
       "<p>... (9375 rows omitted)</p>"
      ],
      "text/plain": [
       "<IPython.core.display.HTML object>"
      ]
     },
     "metadata": {},
     "output_type": "display_data"
    }
   ],
   "source": [
    "## slice to show aggregations and pivot\n",
    "rev_slice = revenues.select('facturacion','categoria','tipo_job')\n",
    "rev_slice.show(5)"
   ]
  },
  {
   "cell_type": "code",
   "execution_count": 43,
   "metadata": {},
   "outputs": [
    {
     "data": {
      "text/html": [
       "<table border=\"1\" class=\"dataframe\">\n",
       "    <thead>\n",
       "        <tr>\n",
       "            <th>categoria</th> <th>tipo_job</th> <th>facturacion sum</th>\n",
       "        </tr>\n",
       "    </thead>\n",
       "    <tbody>\n",
       "        <tr>\n",
       "            <td>Albañil                 </td> <td>CUSTOM_PROJECT</td> <td>1668066        </td>\n",
       "        </tr>\n",
       "    </tbody>\n",
       "        <tr>\n",
       "            <td>Albañil                 </td> <td>NONE          </td> <td>795706         </td>\n",
       "        </tr>\n",
       "    </tbody>\n",
       "        <tr>\n",
       "            <td>Albañil                 </td> <td>VISIT         </td> <td>220786         </td>\n",
       "        </tr>\n",
       "    </tbody>\n",
       "        <tr>\n",
       "            <td>Albañil                 </td> <td>WARRANTY      </td> <td>0              </td>\n",
       "        </tr>\n",
       "    </tbody>\n",
       "        <tr>\n",
       "            <td>Armador de muebles      </td> <td>VISIT         </td> <td>199            </td>\n",
       "        </tr>\n",
       "    </tbody>\n",
       "        <tr>\n",
       "            <td>Arquitecto / Contratista</td> <td>CUSTOM_PROJECT</td> <td>7487           </td>\n",
       "        </tr>\n",
       "    </tbody>\n",
       "        <tr>\n",
       "            <td>Arquitecto / Contratista</td> <td>NONE          </td> <td>299            </td>\n",
       "        </tr>\n",
       "    </tbody>\n",
       "        <tr>\n",
       "            <td>Arquitecto / Contratista</td> <td>VISIT         </td> <td>398            </td>\n",
       "        </tr>\n",
       "    </tbody>\n",
       "        <tr>\n",
       "            <td>Carpintero              </td> <td>CUSTOM_PROJECT</td> <td>1530204        </td>\n",
       "        </tr>\n",
       "    </tbody>\n",
       "        <tr>\n",
       "            <td>Carpintero              </td> <td>NONE          </td> <td>827904         </td>\n",
       "        </tr>\n",
       "    </tbody>\n",
       "</table>\n",
       "<p>... (68 rows omitted)</p>"
      ],
      "text/plain": [
       "categoria                | tipo_job       | facturacion sum\n",
       "Albañil                  | CUSTOM_PROJECT | 1668066\n",
       "Albañil                  | NONE           | 795706\n",
       "Albañil                  | VISIT          | 220786\n",
       "Albañil                  | WARRANTY       | 0\n",
       "Armador de muebles       | VISIT          | 199\n",
       "Arquitecto / Contratista | CUSTOM_PROJECT | 7487\n",
       "Arquitecto / Contratista | NONE           | 299\n",
       "Arquitecto / Contratista | VISIT          | 398\n",
       "Carpintero               | CUSTOM_PROJECT | 1530204\n",
       "Carpintero               | NONE           | 827904\n",
       "... (68 rows omitted)"
      ]
     },
     "execution_count": 43,
     "metadata": {},
     "output_type": "execute_result"
    }
   ],
   "source": [
    "## aggregations\n",
    "rev_slice.group(['categoria','tipo_job'],sum)"
   ]
  },
  {
   "cell_type": "code",
   "execution_count": 44,
   "metadata": {},
   "outputs": [
    {
     "data": {
      "text/html": [
       "<table border=\"1\" class=\"dataframe\">\n",
       "    <thead>\n",
       "        <tr>\n",
       "            <th>tipo_job</th> <th>Albañil</th> <th>Armador de muebles</th> <th>Arquitecto / Contratista</th> <th>Carpintero</th> <th>Decorador</th> <th>Electricista</th> <th>Eletricista</th> <th>Encanador</th> <th>Frete e Mudança</th> <th>Fumigación</th> <th>Gasista</th> <th>Herrero</th> <th>Impermeabilizar</th> <th>Interfon y Videoporteros</th> <th>Limpieza</th> <th>Pedreiro</th> <th>Pequeñas Soluciones</th> <th>Pintor</th> <th>Pisos</th> <th>Plomero</th> <th>Remodelaciones</th> <th>Reparación de Línea Blanca</th> <th>Service Línea Blanca</th> <th>Servicio Aire Acondicionado</th> <th>Servicio Técnico de Computo</th> <th>Tablaroca y recubrimientos</th> <th>Vidriero</th> <th>nan</th>\n",
       "        </tr>\n",
       "    </thead>\n",
       "    <tbody>\n",
       "        <tr>\n",
       "            <td>CUSTOM_PROJECT</td> <td>162    </td> <td>0                 </td> <td>1                       </td> <td>187       </td> <td>18       </td> <td>141         </td> <td>0          </td> <td>0        </td> <td>0              </td> <td>0         </td> <td>0      </td> <td>45     </td> <td>42             </td> <td>6                       </td> <td>38      </td> <td>0       </td> <td>132                </td> <td>50    </td> <td>25   </td> <td>729    </td> <td>37            </td> <td>96                        </td> <td>0                   </td> <td>10                         </td> <td>3                          </td> <td>5                         </td> <td>11      </td> <td>0   </td>\n",
       "        </tr>\n",
       "    </tbody>\n",
       "        <tr>\n",
       "            <td>NONE          </td> <td>137    </td> <td>0                 </td> <td>1                       </td> <td>133       </td> <td>390      </td> <td>212         </td> <td>1          </td> <td>3        </td> <td>2              </td> <td>0         </td> <td>3      </td> <td>32     </td> <td>44             </td> <td>7                       </td> <td>42      </td> <td>1       </td> <td>94                 </td> <td>48    </td> <td>35   </td> <td>943    </td> <td>26            </td> <td>236                       </td> <td>2                   </td> <td>8                          </td> <td>12                         </td> <td>0                         </td> <td>17      </td> <td>0   </td>\n",
       "        </tr>\n",
       "    </tbody>\n",
       "        <tr>\n",
       "            <td>VISIT         </td> <td>704    </td> <td>1                 </td> <td>3                       </td> <td>659       </td> <td>288      </td> <td>471         </td> <td>0          </td> <td>0        </td> <td>0              </td> <td>1         </td> <td>0      </td> <td>125    </td> <td>377            </td> <td>36                      </td> <td>10      </td> <td>0       </td> <td>39                 </td> <td>339   </td> <td>145  </td> <td>1108   </td> <td>66            </td> <td>149                       </td> <td>0                   </td> <td>17                         </td> <td>1                          </td> <td>35                        </td> <td>44      </td> <td>0   </td>\n",
       "        </tr>\n",
       "    </tbody>\n",
       "        <tr>\n",
       "            <td>WARRANTY      </td> <td>21     </td> <td>0                 </td> <td>0                       </td> <td>13        </td> <td>0        </td> <td>8           </td> <td>0          </td> <td>0        </td> <td>0              </td> <td>0         </td> <td>0      </td> <td>5      </td> <td>7              </td> <td>0                       </td> <td>5       </td> <td>0       </td> <td>1                  </td> <td>4     </td> <td>3    </td> <td>91     </td> <td>0             </td> <td>11                        </td> <td>0                   </td> <td>1                          </td> <td>0                          </td> <td>0                         </td> <td>3       </td> <td>0   </td>\n",
       "        </tr>\n",
       "    </tbody>\n",
       "        <tr>\n",
       "            <td>nan           </td> <td>0      </td> <td>0                 </td> <td>0                       </td> <td>0         </td> <td>0        </td> <td>0           </td> <td>0          </td> <td>0        </td> <td>0              </td> <td>0         </td> <td>0      </td> <td>0      </td> <td>0              </td> <td>0                       </td> <td>0       </td> <td>0       </td> <td>0                  </td> <td>0     </td> <td>0    </td> <td>0      </td> <td>0             </td> <td>0                         </td> <td>0                   </td> <td>0                          </td> <td>0                          </td> <td>0                         </td> <td>0       </td> <td>422 </td>\n",
       "        </tr>\n",
       "    </tbody>\n",
       "</table>"
      ],
      "text/plain": [
       "tipo_job       | Albañil | Armador de muebles | Arquitecto / Contratista | Carpintero | Decorador | Electricista | Eletricista | Encanador | Frete e Mudança | Fumigación | Gasista | Herrero | Impermeabilizar | Interfon y Videoporteros | Limpieza | Pedreiro | Pequeñas Soluciones | Pintor | Pisos | Plomero | Remodelaciones | Reparación de Línea Blanca | Service Línea Blanca | Servicio Aire Acondicionado | Servicio Técnico de Computo | Tablaroca y recubrimientos | Vidriero | nan\n",
       "CUSTOM_PROJECT | 162     | 0                  | 1                        | 187        | 18        | 141          | 0           | 0         | 0               | 0          | 0       | 45      | 42              | 6                        | 38       | 0        | 132                 | 50     | 25    | 729     | 37             | 96                         | 0                    | 10                          | 3                           | 5                          | 11       | 0\n",
       "NONE           | 137     | 0                  | 1                        | 133        | 390       | 212          | 1           | 3         | 2               | 0          | 3       | 32      | 44              | 7                        | 42       | 1        | 94                  | 48     | 35    | 943     | 26             | 236                        | 2                    | 8                           | 12                          | 0                          | 17       | 0\n",
       "VISIT          | 704     | 1                  | 3                        | 659        | 288       | 471          | 0           | 0         | 0               | 1          | 0       | 125     | 377             | 36                       | 10       | 0        | 39                  | 339    | 145   | 1108    | 66             | 149                        | 0                    | 17                          | 1                           | 35                         | 44       | 0\n",
       "WARRANTY       | 21      | 0                  | 0                        | 13         | 0         | 8            | 0           | 0         | 0               | 0          | 0       | 5       | 7               | 0                        | 5        | 0        | 1                   | 4      | 3     | 91      | 0              | 11                         | 0                    | 1                           | 0                           | 0                          | 3        | 0\n",
       "nan            | 0       | 0                  | 0                        | 0          | 0         | 0            | 0           | 0         | 0               | 0          | 0       | 0       | 0               | 0                        | 0        | 0        | 0                   | 0      | 0     | 0       | 0              | 0                          | 0                    | 0                           | 0                           | 0                          | 0        | 422"
      ]
     },
     "execution_count": 44,
     "metadata": {},
     "output_type": "execute_result"
    }
   ],
   "source": [
    "## contingency table using pivot\n",
    "rev_slice.pivot('categoria','tipo_job')"
   ]
  },
  {
   "cell_type": "markdown",
   "metadata": {},
   "source": [
    "# Lists"
   ]
  },
  {
   "cell_type": "markdown",
   "metadata": {},
   "source": [
    "Lists can store values of different types in an array. "
   ]
  },
  {
   "cell_type": "code",
   "execution_count": 33,
   "metadata": {},
   "outputs": [
    {
     "data": {
      "text/plain": [
       "[1, 'hello world', 1.5]"
      ]
     },
     "execution_count": 33,
     "metadata": {},
     "output_type": "execute_result"
    }
   ],
   "source": [
    "## list definition\n",
    "lista = [1,'hello world',1.5]\n",
    "lista"
   ]
  },
  {
   "cell_type": "code",
   "execution_count": 34,
   "metadata": {},
   "outputs": [
    {
     "data": {
      "text/plain": [
       "list"
      ]
     },
     "execution_count": 34,
     "metadata": {},
     "output_type": "execute_result"
    }
   ],
   "source": [
    "type(lista)"
   ]
  },
  {
   "cell_type": "code",
   "execution_count": 35,
   "metadata": {},
   "outputs": [
    {
     "data": {
      "text/plain": [
       "'hello world'"
      ]
     },
     "execution_count": 35,
     "metadata": {},
     "output_type": "execute_result"
    }
   ],
   "source": [
    "lista[1]"
   ]
  }
 ],
 "metadata": {
  "kernelspec": {
   "display_name": "Python 3",
   "language": "python",
   "name": "python3"
  },
  "language_info": {
   "codemirror_mode": {
    "name": "ipython",
    "version": 3
   },
   "file_extension": ".py",
   "mimetype": "text/x-python",
   "name": "python",
   "nbconvert_exporter": "python",
   "pygments_lexer": "ipython3",
   "version": "3.6.1"
  }
 },
 "nbformat": 4,
 "nbformat_minor": 2
}

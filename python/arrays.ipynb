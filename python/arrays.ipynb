{
 "cells": [
  {
   "cell_type": "markdown",
   "metadata": {},
   "source": [
    "# Arrays"
   ]
  },
  {
   "cell_type": "code",
   "execution_count": 54,
   "metadata": {
    "collapsed": true
   },
   "outputs": [],
   "source": [
    "from datascience import *\n",
    "import numpy as np"
   ]
  },
  {
   "cell_type": "code",
   "execution_count": 14,
   "metadata": {
    "collapsed": true
   },
   "outputs": [],
   "source": [
    "## array definition\n",
    "a = make_array(1,2,3)"
   ]
  },
  {
   "cell_type": "code",
   "execution_count": 15,
   "metadata": {},
   "outputs": [
    {
     "data": {
      "text/plain": [
       "numpy.ndarray"
      ]
     },
     "execution_count": 15,
     "metadata": {},
     "output_type": "execute_result"
    }
   ],
   "source": [
    "## getting type of array\n",
    "type(a)"
   ]
  },
  {
   "cell_type": "code",
   "execution_count": 16,
   "metadata": {},
   "outputs": [
    {
     "data": {
      "text/plain": [
       "6"
      ]
     },
     "execution_count": 16,
     "metadata": {},
     "output_type": "execute_result"
    }
   ],
   "source": [
    "## sum of all elements in an array\n",
    "sum(a)"
   ]
  },
  {
   "cell_type": "code",
   "execution_count": 65,
   "metadata": {},
   "outputs": [
    {
     "data": {
      "text/plain": [
       "array([ 1,  8, 27])"
      ]
     },
     "execution_count": 65,
     "metadata": {},
     "output_type": "execute_result"
    }
   ],
   "source": [
    "## raise arrary to three\n",
    "a**3"
   ]
  },
  {
   "cell_type": "code",
   "execution_count": 66,
   "metadata": {},
   "outputs": [
    {
     "data": {
      "text/plain": [
       "array([0, 1, 2, 3, 4])"
      ]
     },
     "execution_count": 66,
     "metadata": {},
     "output_type": "execute_result"
    }
   ],
   "source": [
    "## definition of a vector of indexes\n",
    "np.arange(5)"
   ]
  },
  {
   "cell_type": "markdown",
   "metadata": {},
   "source": [
    "# Tables"
   ]
  },
  {
   "cell_type": "markdown",
   "metadata": {},
   "source": [
    "### Table columns are arrays"
   ]
  },
  {
   "cell_type": "code",
   "execution_count": 18,
   "metadata": {},
   "outputs": [
    {
     "data": {
      "text/html": [
       "<table border=\"1\" class=\"dataframe\">\n",
       "    <thead>\n",
       "        <tr>\n",
       "            <th>Cell</th> <th>Abl1</th> <th>Eif2b1</th> <th>Erg</th> <th>Eto2</th> <th>Fli1</th> <th>Gata1</th> <th>Gata2</th> <th>Gfi1</th> <th>Gfi1b</th> <th>hHex</th> <th>Kit</th> <th>Ldb1</th> <th>Lmo2</th> <th>Lyl1</th> <th>Meis1</th> <th>Mitf</th> <th>Mrpl19</th> <th>Nfe2</th> <th>Polr2a</th> <th>PU.1</th> <th>Runx1</th> <th>SCL</th> <th>Tel</th> <th>Ubc</th>\n",
       "        </tr>\n",
       "    </thead>\n",
       "    <tbody>\n",
       "        <tr>\n",
       "            <td>CLP001</td> <td>18.6779</td> <td>16.4591</td> <td>19.6492</td> <td>19.2428</td> <td>15.9151</td> <td>40   </td> <td>40   </td> <td>40     </td> <td>40     </td> <td>40     </td> <td>17.8643</td> <td>16.6687</td> <td>18.1803</td> <td>15.4539</td> <td>18.196 </td> <td>40     </td> <td>17.986 </td> <td>17.5246</td> <td>16.9293</td> <td>18.0198</td> <td>15.364 </td> <td>22.6424</td> <td>18.036 </td> <td>13.5989</td>\n",
       "        </tr>\n",
       "    </tbody>\n",
       "        <tr>\n",
       "            <td>CLP002</td> <td>19.068 </td> <td>19.4623</td> <td>17.8717</td> <td>40     </td> <td>17.635 </td> <td>40   </td> <td>40   </td> <td>19.0068</td> <td>18.9441</td> <td>18.5572</td> <td>40     </td> <td>18.4565</td> <td>40     </td> <td>15.7551</td> <td>16.0334</td> <td>40     </td> <td>40     </td> <td>17.8353</td> <td>17.1828</td> <td>17.8285</td> <td>17.3757</td> <td>40     </td> <td>18.6597</td> <td>15.1191</td>\n",
       "        </tr>\n",
       "    </tbody>\n",
       "        <tr>\n",
       "            <td>CLP003</td> <td>17.7428</td> <td>19.356 </td> <td>40     </td> <td>19.9412</td> <td>15.8863</td> <td>40   </td> <td>40   </td> <td>40     </td> <td>40     </td> <td>18.948 </td> <td>16.4138</td> <td>20.1898</td> <td>16.6701</td> <td>16.6486</td> <td>15.2953</td> <td>40     </td> <td>40     </td> <td>18.6317</td> <td>19.385 </td> <td>17.1509</td> <td>17.2826</td> <td>40     </td> <td>18.5823</td> <td>15.2665</td>\n",
       "        </tr>\n",
       "    </tbody>\n",
       "        <tr>\n",
       "            <td>CLP004</td> <td>18.1146</td> <td>18.767 </td> <td>18.4627</td> <td>23.5904</td> <td>16.5768</td> <td>40   </td> <td>40   </td> <td>19.2466</td> <td>19.4505</td> <td>17.7524</td> <td>18.165 </td> <td>18.1589</td> <td>16.799 </td> <td>16.9698</td> <td>17.4518</td> <td>40     </td> <td>17.8275</td> <td>17.8927</td> <td>18.2808</td> <td>17.5093</td> <td>15.8761</td> <td>40     </td> <td>18.0251</td> <td>14.7498</td>\n",
       "        </tr>\n",
       "    </tbody>\n",
       "        <tr>\n",
       "            <td>CLP005</td> <td>19.5837</td> <td>17.4833</td> <td>17.2482</td> <td>20.4202</td> <td>15.7461</td> <td>40   </td> <td>40   </td> <td>40     </td> <td>17.0363</td> <td>18.4543</td> <td>17.5725</td> <td>20.6912</td> <td>17.0085</td> <td>15.8105</td> <td>16.8067</td> <td>40     </td> <td>22.667 </td> <td>19.4703</td> <td>18.3793</td> <td>17.3982</td> <td>17.1598</td> <td>19.1727</td> <td>17.685 </td> <td>14.2408</td>\n",
       "        </tr>\n",
       "    </tbody>\n",
       "        <tr>\n",
       "            <td>CLP006</td> <td>18.186 </td> <td>17.1292</td> <td>17.5487</td> <td>40     </td> <td>17.6252</td> <td>40   </td> <td>40   </td> <td>23.2387</td> <td>19.3446</td> <td>40     </td> <td>17.96  </td> <td>17.9261</td> <td>16.8787</td> <td>16.384 </td> <td>18.1375</td> <td>40     </td> <td>18.9695</td> <td>19.2332</td> <td>17.1994</td> <td>16.2727</td> <td>16.4562</td> <td>40     </td> <td>17.5681</td> <td>14.7022</td>\n",
       "        </tr>\n",
       "    </tbody>\n",
       "        <tr>\n",
       "            <td>CLP007</td> <td>19.5858</td> <td>17.5059</td> <td>16.9023</td> <td>20.1329</td> <td>15.0726</td> <td>40   </td> <td>40   </td> <td>40     </td> <td>18.5438</td> <td>17.7092</td> <td>18.6375</td> <td>19.396 </td> <td>18.3641</td> <td>15.0084</td> <td>15.9826</td> <td>40     </td> <td>17.8951</td> <td>20.1142</td> <td>17.3041</td> <td>17.5587</td> <td>16.0459</td> <td>25.2539</td> <td>18.4053</td> <td>14.582 </td>\n",
       "        </tr>\n",
       "    </tbody>\n",
       "        <tr>\n",
       "            <td>CLP008</td> <td>19.7788</td> <td>17.1802</td> <td>16.6985</td> <td>19.54  </td> <td>15.8982</td> <td>40   </td> <td>40   </td> <td>17.497 </td> <td>20.3457</td> <td>18.5086</td> <td>19.3171</td> <td>18.4221</td> <td>15.7705</td> <td>15.7099</td> <td>15.8852</td> <td>19.5119</td> <td>17.9837</td> <td>20.7401</td> <td>16.747 </td> <td>16.5715</td> <td>15.9555</td> <td>40     </td> <td>18.9303</td> <td>13.2391</td>\n",
       "        </tr>\n",
       "    </tbody>\n",
       "        <tr>\n",
       "            <td>CLP009</td> <td>40     </td> <td>17.2564</td> <td>19.2361</td> <td>18.3137</td> <td>16.3047</td> <td>40   </td> <td>40   </td> <td>40     </td> <td>16.5051</td> <td>16.3858</td> <td>18.4701</td> <td>19.5447</td> <td>18.741 </td> <td>16.3535</td> <td>18.1053</td> <td>40     </td> <td>16.8132</td> <td>20.3507</td> <td>16.6263</td> <td>16.8331</td> <td>18.0435</td> <td>17.319 </td> <td>17.2022</td> <td>13.2732</td>\n",
       "        </tr>\n",
       "    </tbody>\n",
       "        <tr>\n",
       "            <td>CLP010</td> <td>17.0894</td> <td>17.5316</td> <td>17.1864</td> <td>23.7205</td> <td>15.6409</td> <td>40   </td> <td>40   </td> <td>17.4994</td> <td>20.8113</td> <td>16.5733</td> <td>16.6343</td> <td>18.2841</td> <td>16.1988</td> <td>16.3586</td> <td>15.9203</td> <td>40     </td> <td>17.1452</td> <td>18.1469</td> <td>16.9478</td> <td>16.3117</td> <td>15.5373</td> <td>40     </td> <td>18.6297</td> <td>13.8124</td>\n",
       "        </tr>\n",
       "    </tbody>\n",
       "</table>\n",
       "<p>... (610 rows omitted)</p>"
      ],
      "text/plain": [
       "Cell   | Abl1    | Eif2b1  | Erg     | Eto2    | Fli1    | Gata1 | Gata2 | Gfi1    | Gfi1b   | hHex    | Kit     | Ldb1    | Lmo2    | Lyl1    | Meis1   | Mitf    | Mrpl19  | Nfe2    | Polr2a  | PU.1    | Runx1   | SCL     | Tel     | Ubc\n",
       "CLP001 | 18.6779 | 16.4591 | 19.6492 | 19.2428 | 15.9151 | 40    | 40    | 40      | 40      | 40      | 17.8643 | 16.6687 | 18.1803 | 15.4539 | 18.196  | 40      | 17.986  | 17.5246 | 16.9293 | 18.0198 | 15.364  | 22.6424 | 18.036  | 13.5989\n",
       "CLP002 | 19.068  | 19.4623 | 17.8717 | 40      | 17.635  | 40    | 40    | 19.0068 | 18.9441 | 18.5572 | 40      | 18.4565 | 40      | 15.7551 | 16.0334 | 40      | 40      | 17.8353 | 17.1828 | 17.8285 | 17.3757 | 40      | 18.6597 | 15.1191\n",
       "CLP003 | 17.7428 | 19.356  | 40      | 19.9412 | 15.8863 | 40    | 40    | 40      | 40      | 18.948  | 16.4138 | 20.1898 | 16.6701 | 16.6486 | 15.2953 | 40      | 40      | 18.6317 | 19.385  | 17.1509 | 17.2826 | 40      | 18.5823 | 15.2665\n",
       "CLP004 | 18.1146 | 18.767  | 18.4627 | 23.5904 | 16.5768 | 40    | 40    | 19.2466 | 19.4505 | 17.7524 | 18.165  | 18.1589 | 16.799  | 16.9698 | 17.4518 | 40      | 17.8275 | 17.8927 | 18.2808 | 17.5093 | 15.8761 | 40      | 18.0251 | 14.7498\n",
       "CLP005 | 19.5837 | 17.4833 | 17.2482 | 20.4202 | 15.7461 | 40    | 40    | 40      | 17.0363 | 18.4543 | 17.5725 | 20.6912 | 17.0085 | 15.8105 | 16.8067 | 40      | 22.667  | 19.4703 | 18.3793 | 17.3982 | 17.1598 | 19.1727 | 17.685  | 14.2408\n",
       "CLP006 | 18.186  | 17.1292 | 17.5487 | 40      | 17.6252 | 40    | 40    | 23.2387 | 19.3446 | 40      | 17.96   | 17.9261 | 16.8787 | 16.384  | 18.1375 | 40      | 18.9695 | 19.2332 | 17.1994 | 16.2727 | 16.4562 | 40      | 17.5681 | 14.7022\n",
       "CLP007 | 19.5858 | 17.5059 | 16.9023 | 20.1329 | 15.0726 | 40    | 40    | 40      | 18.5438 | 17.7092 | 18.6375 | 19.396  | 18.3641 | 15.0084 | 15.9826 | 40      | 17.8951 | 20.1142 | 17.3041 | 17.5587 | 16.0459 | 25.2539 | 18.4053 | 14.582\n",
       "CLP008 | 19.7788 | 17.1802 | 16.6985 | 19.54   | 15.8982 | 40    | 40    | 17.497  | 20.3457 | 18.5086 | 19.3171 | 18.4221 | 15.7705 | 15.7099 | 15.8852 | 19.5119 | 17.9837 | 20.7401 | 16.747  | 16.5715 | 15.9555 | 40      | 18.9303 | 13.2391\n",
       "CLP009 | 40      | 17.2564 | 19.2361 | 18.3137 | 16.3047 | 40    | 40    | 40      | 16.5051 | 16.3858 | 18.4701 | 19.5447 | 18.741  | 16.3535 | 18.1053 | 40      | 16.8132 | 20.3507 | 16.6263 | 16.8331 | 18.0435 | 17.319  | 17.2022 | 13.2732\n",
       "CLP010 | 17.0894 | 17.5316 | 17.1864 | 23.7205 | 15.6409 | 40    | 40    | 17.4994 | 20.8113 | 16.5733 | 16.6343 | 18.2841 | 16.1988 | 16.3586 | 15.9203 | 40      | 17.1452 | 18.1469 | 16.9478 | 16.3117 | 15.5373 | 40      | 18.6297 | 13.8124\n",
       "... (610 rows omitted)"
      ]
     },
     "execution_count": 18,
     "metadata": {},
     "output_type": "execute_result"
    }
   ],
   "source": [
    "## Importing data\n",
    "path = '/home/carlos/scripts/dataScience/data/NIHMS53736-supplement-9.csv'\n",
    "data = Table.read_table(path)\n",
    "data"
   ]
  },
  {
   "cell_type": "code",
   "execution_count": 8,
   "metadata": {},
   "outputs": [
    {
     "data": {
      "text/plain": [
       "array(['CLP001', 'CLP002', 'CLP003', 'CLP004', 'CLP005', 'CLP006',\n",
       "       'CLP007', 'CLP008', 'CLP009', 'CLP010'], \n",
       "      dtype='<U10')"
      ]
     },
     "execution_count": 8,
     "metadata": {},
     "output_type": "execute_result"
    }
   ],
   "source": [
    "## select a column (which is an array) from the table\n",
    "data.column(\"Cell\")[:10]"
   ]
  },
  {
   "cell_type": "code",
   "execution_count": 29,
   "metadata": {},
   "outputs": [
    {
     "data": {
      "text/plain": [
       "array([ 19.06803842,  17.74280459,  18.11456154,  19.58371532,\n",
       "        18.18604901,  19.58578921,  19.7788078 ,  40.        ,  17.08941762])"
      ]
     },
     "execution_count": 29,
     "metadata": {},
     "output_type": "execute_result"
    }
   ],
   "source": [
    "## select a column using integer\n",
    "data.column(1)[1:10]"
   ]
  },
  {
   "cell_type": "code",
   "execution_count": 32,
   "metadata": {},
   "outputs": [
    {
     "data": {
      "text/plain": [
       "40.0"
      ]
     },
     "execution_count": 32,
     "metadata": {},
     "output_type": "execute_result"
    }
   ],
   "source": [
    "## take max of the second column\n",
    "data.column(1).max()"
   ]
  },
  {
   "cell_type": "code",
   "execution_count": 35,
   "metadata": {},
   "outputs": [
    {
     "data": {
      "text/plain": [
       "18.67785665"
      ]
     },
     "execution_count": 35,
     "metadata": {},
     "output_type": "execute_result"
    }
   ],
   "source": [
    "## select first number in the column\n",
    "data.column(1).item(0)"
   ]
  },
  {
   "cell_type": "code",
   "execution_count": 43,
   "metadata": {},
   "outputs": [
    {
     "data": {
      "text/html": [
       "<table border=\"1\" class=\"dataframe\">\n",
       "    <thead>\n",
       "        <tr>\n",
       "            <th>band</th> <th>song</th>\n",
       "        </tr>\n",
       "    </thead>\n",
       "    <tbody>\n",
       "        <tr>\n",
       "            <td>nirvana     </td> <td>Lithium      </td>\n",
       "        </tr>\n",
       "    </tbody>\n",
       "        <tr>\n",
       "            <td>guns n roses</td> <td>November Rain</td>\n",
       "        </tr>\n",
       "    </tbody>\n",
       "</table>"
      ],
      "text/plain": [
       "band         | song\n",
       "nirvana      | Lithium\n",
       "guns n roses | November Rain"
      ]
     },
     "execution_count": 43,
     "metadata": {},
     "output_type": "execute_result"
    }
   ],
   "source": [
    "## Table definition\n",
    "## note the Table() sintax\n",
    "songs = Table().with_columns(\"band\",make_array('nirvana','guns n roses'),\n",
    "                  \"song\",make_array('Lithium','November Rain'))\n",
    "songs"
   ]
  },
  {
   "cell_type": "code",
   "execution_count": 47,
   "metadata": {},
   "outputs": [
    {
     "data": {
      "text/html": [
       "<table border=\"1\" class=\"dataframe\">\n",
       "    <thead>\n",
       "        <tr>\n",
       "            <th>band</th> <th>song</th>\n",
       "        </tr>\n",
       "    </thead>\n",
       "    <tbody>\n",
       "        <tr>\n",
       "            <td>nirvana</td> <td>Lithium</td>\n",
       "        </tr>\n",
       "    </tbody>\n",
       "</table>\n",
       "<p>... (1 rows omitted)</p>"
      ],
      "text/plain": [
       "<IPython.core.display.HTML object>"
      ]
     },
     "metadata": {},
     "output_type": "display_data"
    }
   ],
   "source": [
    "## display one row\n",
    "songs.show(1)"
   ]
  },
  {
   "cell_type": "code",
   "execution_count": 49,
   "metadata": {},
   "outputs": [
    {
     "data": {
      "text/html": [
       "<table border=\"1\" class=\"dataframe\">\n",
       "    <thead>\n",
       "        <tr>\n",
       "            <th>band</th> <th>song</th>\n",
       "        </tr>\n",
       "    </thead>\n",
       "    <tbody>\n",
       "        <tr>\n",
       "            <td>guns n roses</td> <td>November Rain</td>\n",
       "        </tr>\n",
       "    </tbody>\n",
       "        <tr>\n",
       "            <td>nirvana     </td> <td>Lithium      </td>\n",
       "        </tr>\n",
       "    </tbody>\n",
       "</table>"
      ],
      "text/plain": [
       "band         | song\n",
       "guns n roses | November Rain\n",
       "nirvana      | Lithium"
      ]
     },
     "execution_count": 49,
     "metadata": {},
     "output_type": "execute_result"
    }
   ],
   "source": [
    "## sorting by column\n",
    "songs.sort('band')"
   ]
  },
  {
   "cell_type": "code",
   "execution_count": 51,
   "metadata": {},
   "outputs": [
    {
     "data": {
      "text/html": [
       "<table border=\"1\" class=\"dataframe\">\n",
       "    <thead>\n",
       "        <tr>\n",
       "            <th>band</th> <th>song</th>\n",
       "        </tr>\n",
       "    </thead>\n",
       "    <tbody>\n",
       "        <tr>\n",
       "            <td>nirvana     </td> <td>Lithium      </td>\n",
       "        </tr>\n",
       "    </tbody>\n",
       "        <tr>\n",
       "            <td>guns n roses</td> <td>November Rain</td>\n",
       "        </tr>\n",
       "    </tbody>\n",
       "</table>"
      ],
      "text/plain": [
       "band         | song\n",
       "nirvana      | Lithium\n",
       "guns n roses | November Rain"
      ]
     },
     "execution_count": 51,
     "metadata": {},
     "output_type": "execute_result"
    }
   ],
   "source": [
    "## sorting descending\n",
    "songs.sort('band',descending=True)"
   ]
  },
  {
   "cell_type": "code",
   "execution_count": 53,
   "metadata": {},
   "outputs": [
    {
     "data": {
      "text/html": [
       "<table border=\"1\" class=\"dataframe\">\n",
       "    <thead>\n",
       "        <tr>\n",
       "            <th>band</th> <th>song</th>\n",
       "        </tr>\n",
       "    </thead>\n",
       "    <tbody>\n",
       "        <tr>\n",
       "            <td>nirvana</td> <td>Lithium</td>\n",
       "        </tr>\n",
       "    </tbody>\n",
       "</table>"
      ],
      "text/plain": [
       "band    | song\n",
       "nirvana | Lithium"
      ]
     },
     "execution_count": 53,
     "metadata": {},
     "output_type": "execute_result"
    }
   ],
   "source": [
    "## select row 0 by index\n",
    "songs.take(0)"
   ]
  },
  {
   "cell_type": "code",
   "execution_count": 64,
   "metadata": {},
   "outputs": [
    {
     "data": {
      "text/html": [
       "<table border=\"1\" class=\"dataframe\">\n",
       "    <thead>\n",
       "        <tr>\n",
       "            <th>Cell</th> <th>Abl1</th> <th>Eif2b1</th> <th>Erg</th> <th>Eto2</th> <th>Fli1</th> <th>Gata1</th> <th>Gata2</th> <th>Gfi1</th> <th>Gfi1b</th> <th>hHex</th> <th>Kit</th> <th>Ldb1</th> <th>Lmo2</th> <th>Lyl1</th> <th>Meis1</th> <th>Mitf</th> <th>Mrpl19</th> <th>Nfe2</th> <th>Polr2a</th> <th>PU.1</th> <th>Runx1</th> <th>SCL</th> <th>Tel</th> <th>Ubc</th>\n",
       "        </tr>\n",
       "    </thead>\n",
       "    <tbody>\n",
       "        <tr>\n",
       "            <td>CLP001</td> <td>18.6779</td> <td>16.4591</td> <td>19.6492</td> <td>19.2428</td> <td>15.9151</td> <td>40   </td> <td>40   </td> <td>40     </td> <td>40     </td> <td>40     </td> <td>17.8643</td> <td>16.6687</td> <td>18.1803</td> <td>15.4539</td> <td>18.196 </td> <td>40  </td> <td>17.986 </td> <td>17.5246</td> <td>16.9293</td> <td>18.0198</td> <td>15.364 </td> <td>22.6424</td> <td>18.036 </td> <td>13.5989</td>\n",
       "        </tr>\n",
       "    </tbody>\n",
       "        <tr>\n",
       "            <td>CLP002</td> <td>19.068 </td> <td>19.4623</td> <td>17.8717</td> <td>40     </td> <td>17.635 </td> <td>40   </td> <td>40   </td> <td>19.0068</td> <td>18.9441</td> <td>18.5572</td> <td>40     </td> <td>18.4565</td> <td>40     </td> <td>15.7551</td> <td>16.0334</td> <td>40  </td> <td>40     </td> <td>17.8353</td> <td>17.1828</td> <td>17.8285</td> <td>17.3757</td> <td>40     </td> <td>18.6597</td> <td>15.1191</td>\n",
       "        </tr>\n",
       "    </tbody>\n",
       "        <tr>\n",
       "            <td>CLP003</td> <td>17.7428</td> <td>19.356 </td> <td>40     </td> <td>19.9412</td> <td>15.8863</td> <td>40   </td> <td>40   </td> <td>40     </td> <td>40     </td> <td>18.948 </td> <td>16.4138</td> <td>20.1898</td> <td>16.6701</td> <td>16.6486</td> <td>15.2953</td> <td>40  </td> <td>40     </td> <td>18.6317</td> <td>19.385 </td> <td>17.1509</td> <td>17.2826</td> <td>40     </td> <td>18.5823</td> <td>15.2665</td>\n",
       "        </tr>\n",
       "    </tbody>\n",
       "        <tr>\n",
       "            <td>CLP004</td> <td>18.1146</td> <td>18.767 </td> <td>18.4627</td> <td>23.5904</td> <td>16.5768</td> <td>40   </td> <td>40   </td> <td>19.2466</td> <td>19.4505</td> <td>17.7524</td> <td>18.165 </td> <td>18.1589</td> <td>16.799 </td> <td>16.9698</td> <td>17.4518</td> <td>40  </td> <td>17.8275</td> <td>17.8927</td> <td>18.2808</td> <td>17.5093</td> <td>15.8761</td> <td>40     </td> <td>18.0251</td> <td>14.7498</td>\n",
       "        </tr>\n",
       "    </tbody>\n",
       "        <tr>\n",
       "            <td>CLP005</td> <td>19.5837</td> <td>17.4833</td> <td>17.2482</td> <td>20.4202</td> <td>15.7461</td> <td>40   </td> <td>40   </td> <td>40     </td> <td>17.0363</td> <td>18.4543</td> <td>17.5725</td> <td>20.6912</td> <td>17.0085</td> <td>15.8105</td> <td>16.8067</td> <td>40  </td> <td>22.667 </td> <td>19.4703</td> <td>18.3793</td> <td>17.3982</td> <td>17.1598</td> <td>19.1727</td> <td>17.685 </td> <td>14.2408</td>\n",
       "        </tr>\n",
       "    </tbody>\n",
       "</table>"
      ],
      "text/plain": [
       "Cell   | Abl1    | Eif2b1  | Erg     | Eto2    | Fli1    | Gata1 | Gata2 | Gfi1    | Gfi1b   | hHex    | Kit     | Ldb1    | Lmo2    | Lyl1    | Meis1   | Mitf | Mrpl19  | Nfe2    | Polr2a  | PU.1    | Runx1   | SCL     | Tel     | Ubc\n",
       "CLP001 | 18.6779 | 16.4591 | 19.6492 | 19.2428 | 15.9151 | 40    | 40    | 40      | 40      | 40      | 17.8643 | 16.6687 | 18.1803 | 15.4539 | 18.196  | 40   | 17.986  | 17.5246 | 16.9293 | 18.0198 | 15.364  | 22.6424 | 18.036  | 13.5989\n",
       "CLP002 | 19.068  | 19.4623 | 17.8717 | 40      | 17.635  | 40    | 40    | 19.0068 | 18.9441 | 18.5572 | 40      | 18.4565 | 40      | 15.7551 | 16.0334 | 40   | 40      | 17.8353 | 17.1828 | 17.8285 | 17.3757 | 40      | 18.6597 | 15.1191\n",
       "CLP003 | 17.7428 | 19.356  | 40      | 19.9412 | 15.8863 | 40    | 40    | 40      | 40      | 18.948  | 16.4138 | 20.1898 | 16.6701 | 16.6486 | 15.2953 | 40   | 40      | 18.6317 | 19.385  | 17.1509 | 17.2826 | 40      | 18.5823 | 15.2665\n",
       "CLP004 | 18.1146 | 18.767  | 18.4627 | 23.5904 | 16.5768 | 40    | 40    | 19.2466 | 19.4505 | 17.7524 | 18.165  | 18.1589 | 16.799  | 16.9698 | 17.4518 | 40   | 17.8275 | 17.8927 | 18.2808 | 17.5093 | 15.8761 | 40      | 18.0251 | 14.7498\n",
       "CLP005 | 19.5837 | 17.4833 | 17.2482 | 20.4202 | 15.7461 | 40    | 40    | 40      | 17.0363 | 18.4543 | 17.5725 | 20.6912 | 17.0085 | 15.8105 | 16.8067 | 40   | 22.667  | 19.4703 | 18.3793 | 17.3982 | 17.1598 | 19.1727 | 17.685  | 14.2408"
      ]
     },
     "execution_count": 64,
     "metadata": {},
     "output_type": "execute_result"
    }
   ],
   "source": [
    "## selecting rows by an index array\n",
    "## np.arange creates an array from 0-4\n",
    "data.take(np.arange(5))"
   ]
  },
  {
   "cell_type": "code",
   "execution_count": 68,
   "metadata": {},
   "outputs": [
    {
     "data": {
      "text/html": [
       "<table border=\"1\" class=\"dataframe\">\n",
       "    <thead>\n",
       "        <tr>\n",
       "            <th>band</th> <th>song</th>\n",
       "        </tr>\n",
       "    </thead>\n",
       "    <tbody>\n",
       "        <tr>\n",
       "            <td>nirvana</td> <td>Lithium</td>\n",
       "        </tr>\n",
       "    </tbody>\n",
       "</table>"
      ],
      "text/plain": [
       "band    | song\n",
       "nirvana | Lithium"
      ]
     },
     "execution_count": 68,
     "metadata": {},
     "output_type": "execute_result"
    }
   ],
   "source": [
    "## select a row equal to a condition\n",
    "songs.where('band',are.equal_to('nirvana'))"
   ]
  },
  {
   "cell_type": "code",
   "execution_count": 73,
   "metadata": {
    "collapsed": true
   },
   "outputs": [
    {
     "data": {
      "text/html": [
       "<table border=\"1\" class=\"dataframe\">\n",
       "    <thead>\n",
       "        <tr>\n",
       "            <th>Cell</th> <th>Abl1</th> <th>Eif2b1</th> <th>Erg</th> <th>Eto2</th> <th>Fli1</th> <th>Gata1</th> <th>Gata2</th> <th>Gfi1</th> <th>Gfi1b</th> <th>hHex</th> <th>Kit</th> <th>Ldb1</th> <th>Lmo2</th> <th>Lyl1</th> <th>Meis1</th> <th>Mitf</th> <th>Mrpl19</th> <th>Nfe2</th> <th>Polr2a</th> <th>PU.1</th> <th>Runx1</th> <th>SCL</th> <th>Tel</th> <th>Ubc</th>\n",
       "        </tr>\n",
       "    </thead>\n",
       "    <tbody>\n",
       "        <tr>\n",
       "            <td>CLP009</td> <td>40  </td> <td>17.2564</td> <td>19.2361</td> <td>18.3137</td> <td>16.3047</td> <td>40   </td> <td>40   </td> <td>40     </td> <td>16.5051</td> <td>16.3858</td> <td>18.4701</td> <td>19.5447</td> <td>18.741 </td> <td>16.3535</td> <td>18.1053</td> <td>40  </td> <td>16.8132</td> <td>20.3507</td> <td>16.6263</td> <td>16.8331</td> <td>18.0435</td> <td>17.319 </td> <td>17.2022</td> <td>13.2732</td>\n",
       "        </tr>\n",
       "    </tbody>\n",
       "        <tr>\n",
       "            <td>CLP012</td> <td>40  </td> <td>19.4139</td> <td>17.5243</td> <td>19.0365</td> <td>17.5283</td> <td>40   </td> <td>40   </td> <td>40     </td> <td>18.2165</td> <td>17.8341</td> <td>19.1927</td> <td>19.5912</td> <td>18.1633</td> <td>18.6063</td> <td>17.4664</td> <td>40  </td> <td>18.0894</td> <td>19.116 </td> <td>20.4997</td> <td>18.9989</td> <td>16.9491</td> <td>40     </td> <td>19.3583</td> <td>15.1579</td>\n",
       "        </tr>\n",
       "    </tbody>\n",
       "        <tr>\n",
       "            <td>CLP015</td> <td>40  </td> <td>19.3054</td> <td>19.531 </td> <td>20.184 </td> <td>16.6786</td> <td>40   </td> <td>40   </td> <td>40     </td> <td>19.428 </td> <td>40     </td> <td>16.9423</td> <td>16.8196</td> <td>15.3669</td> <td>15.4554</td> <td>17.8137</td> <td>40  </td> <td>16.3367</td> <td>17.3296</td> <td>17.7101</td> <td>16.8801</td> <td>16.0844</td> <td>40     </td> <td>18.4657</td> <td>14.7087</td>\n",
       "        </tr>\n",
       "    </tbody>\n",
       "        <tr>\n",
       "            <td>CLP018</td> <td>40  </td> <td>18.2541</td> <td>40     </td> <td>18.8848</td> <td>17.2011</td> <td>40   </td> <td>40   </td> <td>40     </td> <td>20.2735</td> <td>40     </td> <td>18.0718</td> <td>40     </td> <td>18.0558</td> <td>17.1186</td> <td>17.1703</td> <td>40  </td> <td>40     </td> <td>18.4021</td> <td>17.306 </td> <td>18.1792</td> <td>16.568 </td> <td>19.0195</td> <td>40     </td> <td>15.655 </td>\n",
       "        </tr>\n",
       "    </tbody>\n",
       "        <tr>\n",
       "            <td>CLP026</td> <td>40  </td> <td>19.8061</td> <td>19.5441</td> <td>20.0459</td> <td>15.7801</td> <td>40   </td> <td>40   </td> <td>40     </td> <td>40     </td> <td>40     </td> <td>17.956 </td> <td>18.5044</td> <td>17.2552</td> <td>16.9516</td> <td>20.5999</td> <td>40  </td> <td>18.8033</td> <td>40     </td> <td>18.7046</td> <td>17.0675</td> <td>19.3009</td> <td>40     </td> <td>19.2639</td> <td>16.27  </td>\n",
       "        </tr>\n",
       "    </tbody>\n",
       "        <tr>\n",
       "            <td>CLP028</td> <td>40  </td> <td>17.7082</td> <td>40     </td> <td>19.2864</td> <td>16.61  </td> <td>40   </td> <td>40   </td> <td>19.1161</td> <td>18.9033</td> <td>21.8204</td> <td>18.9544</td> <td>18.3985</td> <td>40     </td> <td>15.5974</td> <td>17.9086</td> <td>40  </td> <td>18.8448</td> <td>18.7636</td> <td>17.6087</td> <td>17.7556</td> <td>16.6419</td> <td>40     </td> <td>17.0081</td> <td>14.069 </td>\n",
       "        </tr>\n",
       "    </tbody>\n",
       "        <tr>\n",
       "            <td>CLP030</td> <td>40  </td> <td>18.2927</td> <td>17.4632</td> <td>19.0042</td> <td>16.5996</td> <td>40   </td> <td>40   </td> <td>19.0549</td> <td>40     </td> <td>18.7367</td> <td>17.2691</td> <td>17.2215</td> <td>40     </td> <td>16.5456</td> <td>16.8851</td> <td>40  </td> <td>17.4579</td> <td>40     </td> <td>18.4178</td> <td>17.1818</td> <td>16.6682</td> <td>21.1878</td> <td>18.4801</td> <td>15.3879</td>\n",
       "        </tr>\n",
       "    </tbody>\n",
       "        <tr>\n",
       "            <td>CLP031</td> <td>40  </td> <td>17.3267</td> <td>40     </td> <td>19.1672</td> <td>15.893 </td> <td>40   </td> <td>40   </td> <td>20.2909</td> <td>40     </td> <td>40     </td> <td>17.2184</td> <td>17.6721</td> <td>16.8289</td> <td>16.8159</td> <td>16.2511</td> <td>40  </td> <td>17.7269</td> <td>20.2966</td> <td>17.9297</td> <td>17.8011</td> <td>16.2824</td> <td>40     </td> <td>20.4539</td> <td>15.0229</td>\n",
       "        </tr>\n",
       "    </tbody>\n",
       "        <tr>\n",
       "            <td>CLP034</td> <td>40  </td> <td>18.2278</td> <td>40     </td> <td>23.3807</td> <td>17.5025</td> <td>40   </td> <td>40   </td> <td>19.2116</td> <td>40     </td> <td>40     </td> <td>17.8321</td> <td>18.1051</td> <td>16.0564</td> <td>17.6883</td> <td>16.8847</td> <td>40  </td> <td>40     </td> <td>20.8044</td> <td>18.1731</td> <td>16.872 </td> <td>17.2783</td> <td>40     </td> <td>19.106 </td> <td>15.8382</td>\n",
       "        </tr>\n",
       "    </tbody>\n",
       "        <tr>\n",
       "            <td>CLP036</td> <td>40  </td> <td>17.5608</td> <td>40     </td> <td>40     </td> <td>15.6041</td> <td>40   </td> <td>40   </td> <td>15.9357</td> <td>16.2313</td> <td>40     </td> <td>19.199 </td> <td>19.9329</td> <td>40     </td> <td>15.749 </td> <td>18.1319</td> <td>40  </td> <td>17.8861</td> <td>20.0771</td> <td>17.7537</td> <td>40     </td> <td>16.5018</td> <td>40     </td> <td>17.6945</td> <td>14.0993</td>\n",
       "        </tr>\n",
       "    </tbody>\n",
       "</table>\n",
       "<p>... (277 rows omitted)</p>"
      ],
      "text/plain": [
       "Cell   | Abl1 | Eif2b1  | Erg     | Eto2    | Fli1    | Gata1 | Gata2 | Gfi1    | Gfi1b   | hHex    | Kit     | Ldb1    | Lmo2    | Lyl1    | Meis1   | Mitf | Mrpl19  | Nfe2    | Polr2a  | PU.1    | Runx1   | SCL     | Tel     | Ubc\n",
       "CLP009 | 40   | 17.2564 | 19.2361 | 18.3137 | 16.3047 | 40    | 40    | 40      | 16.5051 | 16.3858 | 18.4701 | 19.5447 | 18.741  | 16.3535 | 18.1053 | 40   | 16.8132 | 20.3507 | 16.6263 | 16.8331 | 18.0435 | 17.319  | 17.2022 | 13.2732\n",
       "CLP012 | 40   | 19.4139 | 17.5243 | 19.0365 | 17.5283 | 40    | 40    | 40      | 18.2165 | 17.8341 | 19.1927 | 19.5912 | 18.1633 | 18.6063 | 17.4664 | 40   | 18.0894 | 19.116  | 20.4997 | 18.9989 | 16.9491 | 40      | 19.3583 | 15.1579\n",
       "CLP015 | 40   | 19.3054 | 19.531  | 20.184  | 16.6786 | 40    | 40    | 40      | 19.428  | 40      | 16.9423 | 16.8196 | 15.3669 | 15.4554 | 17.8137 | 40   | 16.3367 | 17.3296 | 17.7101 | 16.8801 | 16.0844 | 40      | 18.4657 | 14.7087\n",
       "CLP018 | 40   | 18.2541 | 40      | 18.8848 | 17.2011 | 40    | 40    | 40      | 20.2735 | 40      | 18.0718 | 40      | 18.0558 | 17.1186 | 17.1703 | 40   | 40      | 18.4021 | 17.306  | 18.1792 | 16.568  | 19.0195 | 40      | 15.655\n",
       "CLP026 | 40   | 19.8061 | 19.5441 | 20.0459 | 15.7801 | 40    | 40    | 40      | 40      | 40      | 17.956  | 18.5044 | 17.2552 | 16.9516 | 20.5999 | 40   | 18.8033 | 40      | 18.7046 | 17.0675 | 19.3009 | 40      | 19.2639 | 16.27\n",
       "CLP028 | 40   | 17.7082 | 40      | 19.2864 | 16.61   | 40    | 40    | 19.1161 | 18.9033 | 21.8204 | 18.9544 | 18.3985 | 40      | 15.5974 | 17.9086 | 40   | 18.8448 | 18.7636 | 17.6087 | 17.7556 | 16.6419 | 40      | 17.0081 | 14.069\n",
       "CLP030 | 40   | 18.2927 | 17.4632 | 19.0042 | 16.5996 | 40    | 40    | 19.0549 | 40      | 18.7367 | 17.2691 | 17.2215 | 40      | 16.5456 | 16.8851 | 40   | 17.4579 | 40      | 18.4178 | 17.1818 | 16.6682 | 21.1878 | 18.4801 | 15.3879\n",
       "CLP031 | 40   | 17.3267 | 40      | 19.1672 | 15.893  | 40    | 40    | 20.2909 | 40      | 40      | 17.2184 | 17.6721 | 16.8289 | 16.8159 | 16.2511 | 40   | 17.7269 | 20.2966 | 17.9297 | 17.8011 | 16.2824 | 40      | 20.4539 | 15.0229\n",
       "CLP034 | 40   | 18.2278 | 40      | 23.3807 | 17.5025 | 40    | 40    | 19.2116 | 40      | 40      | 17.8321 | 18.1051 | 16.0564 | 17.6883 | 16.8847 | 40   | 40      | 20.8044 | 18.1731 | 16.872  | 17.2783 | 40      | 19.106  | 15.8382\n",
       "CLP036 | 40   | 17.5608 | 40      | 40      | 15.6041 | 40    | 40    | 15.9357 | 16.2313 | 40      | 19.199  | 19.9329 | 40      | 15.749  | 18.1319 | 40   | 17.8861 | 20.0771 | 17.7537 | 40      | 16.5018 | 40      | 17.6945 | 14.0993\n",
       "... (277 rows omitted)"
      ]
     },
     "execution_count": 73,
     "metadata": {},
     "output_type": "execute_result"
    }
   ],
   "source": [
    "## select rows above some threshold\n",
    "data.where('Abl1',are.above(30))"
   ]
  },
  {
   "cell_type": "code",
   "execution_count": 75,
   "metadata": {},
   "outputs": [
    {
     "data": {
      "text/html": [
       "<table border=\"1\" class=\"dataframe\">\n",
       "    <thead>\n",
       "        <tr>\n",
       "            <th>Cell</th> <th>Abl1</th> <th>Eif2b1</th> <th>Erg</th> <th>Eto2</th> <th>Fli1</th> <th>Gata1</th> <th>Gata2</th> <th>Gfi1</th> <th>Gfi1b</th> <th>hHex</th> <th>Kit</th> <th>Ldb1</th> <th>Lmo2</th> <th>Lyl1</th> <th>Meis1</th> <th>Mitf</th> <th>Mrpl19</th> <th>Nfe2</th> <th>Polr2a</th> <th>PU.1</th> <th>Runx1</th> <th>SCL</th> <th>Tel</th> <th>Ubc</th>\n",
       "        </tr>\n",
       "    </thead>\n",
       "    <tbody>\n",
       "        <tr>\n",
       "            <td>CLP001</td> <td>18.6779</td> <td>16.4591</td> <td>19.6492</td> <td>19.2428</td> <td>15.9151</td> <td>40   </td> <td>40   </td> <td>40     </td> <td>40     </td> <td>40     </td> <td>17.8643</td> <td>16.6687</td> <td>18.1803</td> <td>15.4539</td> <td>18.196 </td> <td>40     </td> <td>17.986 </td> <td>17.5246</td> <td>16.9293</td> <td>18.0198</td> <td>15.364 </td> <td>22.6424</td> <td>18.036 </td> <td>13.5989</td>\n",
       "        </tr>\n",
       "    </tbody>\n",
       "        <tr>\n",
       "            <td>CLP002</td> <td>19.068 </td> <td>19.4623</td> <td>17.8717</td> <td>40     </td> <td>17.635 </td> <td>40   </td> <td>40   </td> <td>19.0068</td> <td>18.9441</td> <td>18.5572</td> <td>40     </td> <td>18.4565</td> <td>40     </td> <td>15.7551</td> <td>16.0334</td> <td>40     </td> <td>40     </td> <td>17.8353</td> <td>17.1828</td> <td>17.8285</td> <td>17.3757</td> <td>40     </td> <td>18.6597</td> <td>15.1191</td>\n",
       "        </tr>\n",
       "    </tbody>\n",
       "        <tr>\n",
       "            <td>CLP003</td> <td>17.7428</td> <td>19.356 </td> <td>40     </td> <td>19.9412</td> <td>15.8863</td> <td>40   </td> <td>40   </td> <td>40     </td> <td>40     </td> <td>18.948 </td> <td>16.4138</td> <td>20.1898</td> <td>16.6701</td> <td>16.6486</td> <td>15.2953</td> <td>40     </td> <td>40     </td> <td>18.6317</td> <td>19.385 </td> <td>17.1509</td> <td>17.2826</td> <td>40     </td> <td>18.5823</td> <td>15.2665</td>\n",
       "        </tr>\n",
       "    </tbody>\n",
       "        <tr>\n",
       "            <td>CLP004</td> <td>18.1146</td> <td>18.767 </td> <td>18.4627</td> <td>23.5904</td> <td>16.5768</td> <td>40   </td> <td>40   </td> <td>19.2466</td> <td>19.4505</td> <td>17.7524</td> <td>18.165 </td> <td>18.1589</td> <td>16.799 </td> <td>16.9698</td> <td>17.4518</td> <td>40     </td> <td>17.8275</td> <td>17.8927</td> <td>18.2808</td> <td>17.5093</td> <td>15.8761</td> <td>40     </td> <td>18.0251</td> <td>14.7498</td>\n",
       "        </tr>\n",
       "    </tbody>\n",
       "        <tr>\n",
       "            <td>CLP005</td> <td>19.5837</td> <td>17.4833</td> <td>17.2482</td> <td>20.4202</td> <td>15.7461</td> <td>40   </td> <td>40   </td> <td>40     </td> <td>17.0363</td> <td>18.4543</td> <td>17.5725</td> <td>20.6912</td> <td>17.0085</td> <td>15.8105</td> <td>16.8067</td> <td>40     </td> <td>22.667 </td> <td>19.4703</td> <td>18.3793</td> <td>17.3982</td> <td>17.1598</td> <td>19.1727</td> <td>17.685 </td> <td>14.2408</td>\n",
       "        </tr>\n",
       "    </tbody>\n",
       "        <tr>\n",
       "            <td>CLP006</td> <td>18.186 </td> <td>17.1292</td> <td>17.5487</td> <td>40     </td> <td>17.6252</td> <td>40   </td> <td>40   </td> <td>23.2387</td> <td>19.3446</td> <td>40     </td> <td>17.96  </td> <td>17.9261</td> <td>16.8787</td> <td>16.384 </td> <td>18.1375</td> <td>40     </td> <td>18.9695</td> <td>19.2332</td> <td>17.1994</td> <td>16.2727</td> <td>16.4562</td> <td>40     </td> <td>17.5681</td> <td>14.7022</td>\n",
       "        </tr>\n",
       "    </tbody>\n",
       "        <tr>\n",
       "            <td>CLP007</td> <td>19.5858</td> <td>17.5059</td> <td>16.9023</td> <td>20.1329</td> <td>15.0726</td> <td>40   </td> <td>40   </td> <td>40     </td> <td>18.5438</td> <td>17.7092</td> <td>18.6375</td> <td>19.396 </td> <td>18.3641</td> <td>15.0084</td> <td>15.9826</td> <td>40     </td> <td>17.8951</td> <td>20.1142</td> <td>17.3041</td> <td>17.5587</td> <td>16.0459</td> <td>25.2539</td> <td>18.4053</td> <td>14.582 </td>\n",
       "        </tr>\n",
       "    </tbody>\n",
       "        <tr>\n",
       "            <td>CLP008</td> <td>19.7788</td> <td>17.1802</td> <td>16.6985</td> <td>19.54  </td> <td>15.8982</td> <td>40   </td> <td>40   </td> <td>17.497 </td> <td>20.3457</td> <td>18.5086</td> <td>19.3171</td> <td>18.4221</td> <td>15.7705</td> <td>15.7099</td> <td>15.8852</td> <td>19.5119</td> <td>17.9837</td> <td>20.7401</td> <td>16.747 </td> <td>16.5715</td> <td>15.9555</td> <td>40     </td> <td>18.9303</td> <td>13.2391</td>\n",
       "        </tr>\n",
       "    </tbody>\n",
       "        <tr>\n",
       "            <td>CLP010</td> <td>17.0894</td> <td>17.5316</td> <td>17.1864</td> <td>23.7205</td> <td>15.6409</td> <td>40   </td> <td>40   </td> <td>17.4994</td> <td>20.8113</td> <td>16.5733</td> <td>16.6343</td> <td>18.2841</td> <td>16.1988</td> <td>16.3586</td> <td>15.9203</td> <td>40     </td> <td>17.1452</td> <td>18.1469</td> <td>16.9478</td> <td>16.3117</td> <td>15.5373</td> <td>40     </td> <td>18.6297</td> <td>13.8124</td>\n",
       "        </tr>\n",
       "    </tbody>\n",
       "        <tr>\n",
       "            <td>CLP011</td> <td>18.5784</td> <td>20.2926</td> <td>40     </td> <td>19.8663</td> <td>16.1186</td> <td>40   </td> <td>40   </td> <td>40     </td> <td>40     </td> <td>18.8711</td> <td>17.5977</td> <td>40     </td> <td>40     </td> <td>18.8181</td> <td>18.0361</td> <td>40     </td> <td>18.0305</td> <td>18.5331</td> <td>18.5116</td> <td>16.8217</td> <td>17.0705</td> <td>25.4655</td> <td>17.6487</td> <td>14.9107</td>\n",
       "        </tr>\n",
       "    </tbody>\n",
       "</table>\n",
       "<p>... (293 rows omitted)</p>"
      ],
      "text/plain": [
       "Cell   | Abl1    | Eif2b1  | Erg     | Eto2    | Fli1    | Gata1 | Gata2 | Gfi1    | Gfi1b   | hHex    | Kit     | Ldb1    | Lmo2    | Lyl1    | Meis1   | Mitf    | Mrpl19  | Nfe2    | Polr2a  | PU.1    | Runx1   | SCL     | Tel     | Ubc\n",
       "CLP001 | 18.6779 | 16.4591 | 19.6492 | 19.2428 | 15.9151 | 40    | 40    | 40      | 40      | 40      | 17.8643 | 16.6687 | 18.1803 | 15.4539 | 18.196  | 40      | 17.986  | 17.5246 | 16.9293 | 18.0198 | 15.364  | 22.6424 | 18.036  | 13.5989\n",
       "CLP002 | 19.068  | 19.4623 | 17.8717 | 40      | 17.635  | 40    | 40    | 19.0068 | 18.9441 | 18.5572 | 40      | 18.4565 | 40      | 15.7551 | 16.0334 | 40      | 40      | 17.8353 | 17.1828 | 17.8285 | 17.3757 | 40      | 18.6597 | 15.1191\n",
       "CLP003 | 17.7428 | 19.356  | 40      | 19.9412 | 15.8863 | 40    | 40    | 40      | 40      | 18.948  | 16.4138 | 20.1898 | 16.6701 | 16.6486 | 15.2953 | 40      | 40      | 18.6317 | 19.385  | 17.1509 | 17.2826 | 40      | 18.5823 | 15.2665\n",
       "CLP004 | 18.1146 | 18.767  | 18.4627 | 23.5904 | 16.5768 | 40    | 40    | 19.2466 | 19.4505 | 17.7524 | 18.165  | 18.1589 | 16.799  | 16.9698 | 17.4518 | 40      | 17.8275 | 17.8927 | 18.2808 | 17.5093 | 15.8761 | 40      | 18.0251 | 14.7498\n",
       "CLP005 | 19.5837 | 17.4833 | 17.2482 | 20.4202 | 15.7461 | 40    | 40    | 40      | 17.0363 | 18.4543 | 17.5725 | 20.6912 | 17.0085 | 15.8105 | 16.8067 | 40      | 22.667  | 19.4703 | 18.3793 | 17.3982 | 17.1598 | 19.1727 | 17.685  | 14.2408\n",
       "CLP006 | 18.186  | 17.1292 | 17.5487 | 40      | 17.6252 | 40    | 40    | 23.2387 | 19.3446 | 40      | 17.96   | 17.9261 | 16.8787 | 16.384  | 18.1375 | 40      | 18.9695 | 19.2332 | 17.1994 | 16.2727 | 16.4562 | 40      | 17.5681 | 14.7022\n",
       "CLP007 | 19.5858 | 17.5059 | 16.9023 | 20.1329 | 15.0726 | 40    | 40    | 40      | 18.5438 | 17.7092 | 18.6375 | 19.396  | 18.3641 | 15.0084 | 15.9826 | 40      | 17.8951 | 20.1142 | 17.3041 | 17.5587 | 16.0459 | 25.2539 | 18.4053 | 14.582\n",
       "CLP008 | 19.7788 | 17.1802 | 16.6985 | 19.54   | 15.8982 | 40    | 40    | 17.497  | 20.3457 | 18.5086 | 19.3171 | 18.4221 | 15.7705 | 15.7099 | 15.8852 | 19.5119 | 17.9837 | 20.7401 | 16.747  | 16.5715 | 15.9555 | 40      | 18.9303 | 13.2391\n",
       "CLP010 | 17.0894 | 17.5316 | 17.1864 | 23.7205 | 15.6409 | 40    | 40    | 17.4994 | 20.8113 | 16.5733 | 16.6343 | 18.2841 | 16.1988 | 16.3586 | 15.9203 | 40      | 17.1452 | 18.1469 | 16.9478 | 16.3117 | 15.5373 | 40      | 18.6297 | 13.8124\n",
       "CLP011 | 18.5784 | 20.2926 | 40      | 19.8663 | 16.1186 | 40    | 40    | 40      | 40      | 18.8711 | 17.5977 | 40      | 40      | 18.8181 | 18.0361 | 40      | 18.0305 | 18.5331 | 18.5116 | 16.8217 | 17.0705 | 25.4655 | 17.6487 | 14.9107\n",
       "... (293 rows omitted)"
      ]
     },
     "execution_count": 75,
     "metadata": {},
     "output_type": "execute_result"
    }
   ],
   "source": [
    "## select data where rows are below some \n",
    "## threshold value\n",
    "data.where('Abl1',are.below(20))"
   ]
  },
  {
   "cell_type": "code",
   "execution_count": 77,
   "metadata": {},
   "outputs": [
    {
     "data": {
      "text/html": [
       "<table border=\"1\" class=\"dataframe\">\n",
       "    <thead>\n",
       "        <tr>\n",
       "            <th>Cell</th> <th>Abl1</th> <th>Eif2b1</th> <th>Erg</th> <th>Eto2</th> <th>Fli1</th> <th>Gata1</th> <th>Gata2</th> <th>Gfi1</th> <th>Gfi1b</th> <th>hHex</th> <th>Kit</th> <th>Ldb1</th> <th>Lmo2</th> <th>Lyl1</th> <th>Meis1</th> <th>Mitf</th> <th>Mrpl19</th> <th>Nfe2</th> <th>Polr2a</th> <th>PU.1</th> <th>Runx1</th> <th>SCL</th> <th>Tel</th> <th>Ubc</th>\n",
       "        </tr>\n",
       "    </thead>\n",
       "    <tbody>\n",
       "        <tr>\n",
       "            <td>CLP001</td> <td>18.6779</td> <td>16.4591</td> <td>19.6492</td> <td>19.2428</td> <td>15.9151</td> <td>40   </td> <td>40   </td> <td>40     </td> <td>40     </td> <td>40     </td> <td>17.8643</td> <td>16.6687</td> <td>18.1803</td> <td>15.4539</td> <td>18.196 </td> <td>40     </td> <td>17.986 </td> <td>17.5246</td> <td>16.9293</td> <td>18.0198</td> <td>15.364 </td> <td>22.6424</td> <td>18.036 </td> <td>13.5989</td>\n",
       "        </tr>\n",
       "    </tbody>\n",
       "        <tr>\n",
       "            <td>CLP002</td> <td>19.068 </td> <td>19.4623</td> <td>17.8717</td> <td>40     </td> <td>17.635 </td> <td>40   </td> <td>40   </td> <td>19.0068</td> <td>18.9441</td> <td>18.5572</td> <td>40     </td> <td>18.4565</td> <td>40     </td> <td>15.7551</td> <td>16.0334</td> <td>40     </td> <td>40     </td> <td>17.8353</td> <td>17.1828</td> <td>17.8285</td> <td>17.3757</td> <td>40     </td> <td>18.6597</td> <td>15.1191</td>\n",
       "        </tr>\n",
       "    </tbody>\n",
       "        <tr>\n",
       "            <td>CLP003</td> <td>17.7428</td> <td>19.356 </td> <td>40     </td> <td>19.9412</td> <td>15.8863</td> <td>40   </td> <td>40   </td> <td>40     </td> <td>40     </td> <td>18.948 </td> <td>16.4138</td> <td>20.1898</td> <td>16.6701</td> <td>16.6486</td> <td>15.2953</td> <td>40     </td> <td>40     </td> <td>18.6317</td> <td>19.385 </td> <td>17.1509</td> <td>17.2826</td> <td>40     </td> <td>18.5823</td> <td>15.2665</td>\n",
       "        </tr>\n",
       "    </tbody>\n",
       "        <tr>\n",
       "            <td>CLP004</td> <td>18.1146</td> <td>18.767 </td> <td>18.4627</td> <td>23.5904</td> <td>16.5768</td> <td>40   </td> <td>40   </td> <td>19.2466</td> <td>19.4505</td> <td>17.7524</td> <td>18.165 </td> <td>18.1589</td> <td>16.799 </td> <td>16.9698</td> <td>17.4518</td> <td>40     </td> <td>17.8275</td> <td>17.8927</td> <td>18.2808</td> <td>17.5093</td> <td>15.8761</td> <td>40     </td> <td>18.0251</td> <td>14.7498</td>\n",
       "        </tr>\n",
       "    </tbody>\n",
       "        <tr>\n",
       "            <td>CLP005</td> <td>19.5837</td> <td>17.4833</td> <td>17.2482</td> <td>20.4202</td> <td>15.7461</td> <td>40   </td> <td>40   </td> <td>40     </td> <td>17.0363</td> <td>18.4543</td> <td>17.5725</td> <td>20.6912</td> <td>17.0085</td> <td>15.8105</td> <td>16.8067</td> <td>40     </td> <td>22.667 </td> <td>19.4703</td> <td>18.3793</td> <td>17.3982</td> <td>17.1598</td> <td>19.1727</td> <td>17.685 </td> <td>14.2408</td>\n",
       "        </tr>\n",
       "    </tbody>\n",
       "        <tr>\n",
       "            <td>CLP006</td> <td>18.186 </td> <td>17.1292</td> <td>17.5487</td> <td>40     </td> <td>17.6252</td> <td>40   </td> <td>40   </td> <td>23.2387</td> <td>19.3446</td> <td>40     </td> <td>17.96  </td> <td>17.9261</td> <td>16.8787</td> <td>16.384 </td> <td>18.1375</td> <td>40     </td> <td>18.9695</td> <td>19.2332</td> <td>17.1994</td> <td>16.2727</td> <td>16.4562</td> <td>40     </td> <td>17.5681</td> <td>14.7022</td>\n",
       "        </tr>\n",
       "    </tbody>\n",
       "        <tr>\n",
       "            <td>CLP007</td> <td>19.5858</td> <td>17.5059</td> <td>16.9023</td> <td>20.1329</td> <td>15.0726</td> <td>40   </td> <td>40   </td> <td>40     </td> <td>18.5438</td> <td>17.7092</td> <td>18.6375</td> <td>19.396 </td> <td>18.3641</td> <td>15.0084</td> <td>15.9826</td> <td>40     </td> <td>17.8951</td> <td>20.1142</td> <td>17.3041</td> <td>17.5587</td> <td>16.0459</td> <td>25.2539</td> <td>18.4053</td> <td>14.582 </td>\n",
       "        </tr>\n",
       "    </tbody>\n",
       "        <tr>\n",
       "            <td>CLP008</td> <td>19.7788</td> <td>17.1802</td> <td>16.6985</td> <td>19.54  </td> <td>15.8982</td> <td>40   </td> <td>40   </td> <td>17.497 </td> <td>20.3457</td> <td>18.5086</td> <td>19.3171</td> <td>18.4221</td> <td>15.7705</td> <td>15.7099</td> <td>15.8852</td> <td>19.5119</td> <td>17.9837</td> <td>20.7401</td> <td>16.747 </td> <td>16.5715</td> <td>15.9555</td> <td>40     </td> <td>18.9303</td> <td>13.2391</td>\n",
       "        </tr>\n",
       "    </tbody>\n",
       "        <tr>\n",
       "            <td>CLP010</td> <td>17.0894</td> <td>17.5316</td> <td>17.1864</td> <td>23.7205</td> <td>15.6409</td> <td>40   </td> <td>40   </td> <td>17.4994</td> <td>20.8113</td> <td>16.5733</td> <td>16.6343</td> <td>18.2841</td> <td>16.1988</td> <td>16.3586</td> <td>15.9203</td> <td>40     </td> <td>17.1452</td> <td>18.1469</td> <td>16.9478</td> <td>16.3117</td> <td>15.5373</td> <td>40     </td> <td>18.6297</td> <td>13.8124</td>\n",
       "        </tr>\n",
       "    </tbody>\n",
       "        <tr>\n",
       "            <td>CLP011</td> <td>18.5784</td> <td>20.2926</td> <td>40     </td> <td>19.8663</td> <td>16.1186</td> <td>40   </td> <td>40   </td> <td>40     </td> <td>40     </td> <td>18.8711</td> <td>17.5977</td> <td>40     </td> <td>40     </td> <td>18.8181</td> <td>18.0361</td> <td>40     </td> <td>18.0305</td> <td>18.5331</td> <td>18.5116</td> <td>16.8217</td> <td>17.0705</td> <td>25.4655</td> <td>17.6487</td> <td>14.9107</td>\n",
       "        </tr>\n",
       "    </tbody>\n",
       "</table>\n",
       "<p>... (322 rows omitted)</p>"
      ],
      "text/plain": [
       "Cell   | Abl1    | Eif2b1  | Erg     | Eto2    | Fli1    | Gata1 | Gata2 | Gfi1    | Gfi1b   | hHex    | Kit     | Ldb1    | Lmo2    | Lyl1    | Meis1   | Mitf    | Mrpl19  | Nfe2    | Polr2a  | PU.1    | Runx1   | SCL     | Tel     | Ubc\n",
       "CLP001 | 18.6779 | 16.4591 | 19.6492 | 19.2428 | 15.9151 | 40    | 40    | 40      | 40      | 40      | 17.8643 | 16.6687 | 18.1803 | 15.4539 | 18.196  | 40      | 17.986  | 17.5246 | 16.9293 | 18.0198 | 15.364  | 22.6424 | 18.036  | 13.5989\n",
       "CLP002 | 19.068  | 19.4623 | 17.8717 | 40      | 17.635  | 40    | 40    | 19.0068 | 18.9441 | 18.5572 | 40      | 18.4565 | 40      | 15.7551 | 16.0334 | 40      | 40      | 17.8353 | 17.1828 | 17.8285 | 17.3757 | 40      | 18.6597 | 15.1191\n",
       "CLP003 | 17.7428 | 19.356  | 40      | 19.9412 | 15.8863 | 40    | 40    | 40      | 40      | 18.948  | 16.4138 | 20.1898 | 16.6701 | 16.6486 | 15.2953 | 40      | 40      | 18.6317 | 19.385  | 17.1509 | 17.2826 | 40      | 18.5823 | 15.2665\n",
       "CLP004 | 18.1146 | 18.767  | 18.4627 | 23.5904 | 16.5768 | 40    | 40    | 19.2466 | 19.4505 | 17.7524 | 18.165  | 18.1589 | 16.799  | 16.9698 | 17.4518 | 40      | 17.8275 | 17.8927 | 18.2808 | 17.5093 | 15.8761 | 40      | 18.0251 | 14.7498\n",
       "CLP005 | 19.5837 | 17.4833 | 17.2482 | 20.4202 | 15.7461 | 40    | 40    | 40      | 17.0363 | 18.4543 | 17.5725 | 20.6912 | 17.0085 | 15.8105 | 16.8067 | 40      | 22.667  | 19.4703 | 18.3793 | 17.3982 | 17.1598 | 19.1727 | 17.685  | 14.2408\n",
       "CLP006 | 18.186  | 17.1292 | 17.5487 | 40      | 17.6252 | 40    | 40    | 23.2387 | 19.3446 | 40      | 17.96   | 17.9261 | 16.8787 | 16.384  | 18.1375 | 40      | 18.9695 | 19.2332 | 17.1994 | 16.2727 | 16.4562 | 40      | 17.5681 | 14.7022\n",
       "CLP007 | 19.5858 | 17.5059 | 16.9023 | 20.1329 | 15.0726 | 40    | 40    | 40      | 18.5438 | 17.7092 | 18.6375 | 19.396  | 18.3641 | 15.0084 | 15.9826 | 40      | 17.8951 | 20.1142 | 17.3041 | 17.5587 | 16.0459 | 25.2539 | 18.4053 | 14.582\n",
       "CLP008 | 19.7788 | 17.1802 | 16.6985 | 19.54   | 15.8982 | 40    | 40    | 17.497  | 20.3457 | 18.5086 | 19.3171 | 18.4221 | 15.7705 | 15.7099 | 15.8852 | 19.5119 | 17.9837 | 20.7401 | 16.747  | 16.5715 | 15.9555 | 40      | 18.9303 | 13.2391\n",
       "CLP010 | 17.0894 | 17.5316 | 17.1864 | 23.7205 | 15.6409 | 40    | 40    | 17.4994 | 20.8113 | 16.5733 | 16.6343 | 18.2841 | 16.1988 | 16.3586 | 15.9203 | 40      | 17.1452 | 18.1469 | 16.9478 | 16.3117 | 15.5373 | 40      | 18.6297 | 13.8124\n",
       "CLP011 | 18.5784 | 20.2926 | 40      | 19.8663 | 16.1186 | 40    | 40    | 40      | 40      | 18.8711 | 17.5977 | 40      | 40      | 18.8181 | 18.0361 | 40      | 18.0305 | 18.5331 | 18.5116 | 16.8217 | 17.0705 | 25.4655 | 17.6487 | 14.9107\n",
       "... (322 rows omitted)"
      ]
     },
     "execution_count": 77,
     "metadata": {},
     "output_type": "execute_result"
    }
   ],
   "source": [
    "## select rows with values between some interval\n",
    "data.where('Abl1',are.between(15,25))"
   ]
  },
  {
   "cell_type": "code",
   "execution_count": 79,
   "metadata": {},
   "outputs": [
    {
     "data": {
      "text/html": [
       "<table border=\"1\" class=\"dataframe\">\n",
       "    <thead>\n",
       "        <tr>\n",
       "            <th>Cell</th> <th>Abl1</th> <th>Eif2b1</th> <th>Erg</th> <th>Eto2</th> <th>Fli1</th> <th>Gata1</th> <th>Gata2</th> <th>Gfi1</th> <th>Gfi1b</th> <th>hHex</th> <th>Kit</th> <th>Ldb1</th> <th>Lmo2</th> <th>Lyl1</th> <th>Meis1</th> <th>Mitf</th> <th>Mrpl19</th> <th>Nfe2</th> <th>Polr2a</th> <th>PU.1</th> <th>Runx1</th> <th>SCL</th> <th>Tel</th> <th>Ubc</th>\n",
       "        </tr>\n",
       "    </thead>\n",
       "    <tbody>\n",
       "        <tr>\n",
       "            <td>CLP001</td> <td>18.6779</td> <td>16.4591</td> <td>19.6492</td> <td>19.2428</td> <td>15.9151</td> <td>40   </td> <td>40   </td> <td>40     </td> <td>40     </td> <td>40     </td> <td>17.8643</td> <td>16.6687</td> <td>18.1803</td> <td>15.4539</td> <td>18.196 </td> <td>40     </td> <td>17.986 </td> <td>17.5246</td> <td>16.9293</td> <td>18.0198</td> <td>15.364 </td> <td>22.6424</td> <td>18.036 </td> <td>13.5989</td>\n",
       "        </tr>\n",
       "    </tbody>\n",
       "        <tr>\n",
       "            <td>CLP002</td> <td>19.068 </td> <td>19.4623</td> <td>17.8717</td> <td>40     </td> <td>17.635 </td> <td>40   </td> <td>40   </td> <td>19.0068</td> <td>18.9441</td> <td>18.5572</td> <td>40     </td> <td>18.4565</td> <td>40     </td> <td>15.7551</td> <td>16.0334</td> <td>40     </td> <td>40     </td> <td>17.8353</td> <td>17.1828</td> <td>17.8285</td> <td>17.3757</td> <td>40     </td> <td>18.6597</td> <td>15.1191</td>\n",
       "        </tr>\n",
       "    </tbody>\n",
       "        <tr>\n",
       "            <td>CLP003</td> <td>17.7428</td> <td>19.356 </td> <td>40     </td> <td>19.9412</td> <td>15.8863</td> <td>40   </td> <td>40   </td> <td>40     </td> <td>40     </td> <td>18.948 </td> <td>16.4138</td> <td>20.1898</td> <td>16.6701</td> <td>16.6486</td> <td>15.2953</td> <td>40     </td> <td>40     </td> <td>18.6317</td> <td>19.385 </td> <td>17.1509</td> <td>17.2826</td> <td>40     </td> <td>18.5823</td> <td>15.2665</td>\n",
       "        </tr>\n",
       "    </tbody>\n",
       "        <tr>\n",
       "            <td>CLP004</td> <td>18.1146</td> <td>18.767 </td> <td>18.4627</td> <td>23.5904</td> <td>16.5768</td> <td>40   </td> <td>40   </td> <td>19.2466</td> <td>19.4505</td> <td>17.7524</td> <td>18.165 </td> <td>18.1589</td> <td>16.799 </td> <td>16.9698</td> <td>17.4518</td> <td>40     </td> <td>17.8275</td> <td>17.8927</td> <td>18.2808</td> <td>17.5093</td> <td>15.8761</td> <td>40     </td> <td>18.0251</td> <td>14.7498</td>\n",
       "        </tr>\n",
       "    </tbody>\n",
       "        <tr>\n",
       "            <td>CLP005</td> <td>19.5837</td> <td>17.4833</td> <td>17.2482</td> <td>20.4202</td> <td>15.7461</td> <td>40   </td> <td>40   </td> <td>40     </td> <td>17.0363</td> <td>18.4543</td> <td>17.5725</td> <td>20.6912</td> <td>17.0085</td> <td>15.8105</td> <td>16.8067</td> <td>40     </td> <td>22.667 </td> <td>19.4703</td> <td>18.3793</td> <td>17.3982</td> <td>17.1598</td> <td>19.1727</td> <td>17.685 </td> <td>14.2408</td>\n",
       "        </tr>\n",
       "    </tbody>\n",
       "        <tr>\n",
       "            <td>CLP006</td> <td>18.186 </td> <td>17.1292</td> <td>17.5487</td> <td>40     </td> <td>17.6252</td> <td>40   </td> <td>40   </td> <td>23.2387</td> <td>19.3446</td> <td>40     </td> <td>17.96  </td> <td>17.9261</td> <td>16.8787</td> <td>16.384 </td> <td>18.1375</td> <td>40     </td> <td>18.9695</td> <td>19.2332</td> <td>17.1994</td> <td>16.2727</td> <td>16.4562</td> <td>40     </td> <td>17.5681</td> <td>14.7022</td>\n",
       "        </tr>\n",
       "    </tbody>\n",
       "        <tr>\n",
       "            <td>CLP007</td> <td>19.5858</td> <td>17.5059</td> <td>16.9023</td> <td>20.1329</td> <td>15.0726</td> <td>40   </td> <td>40   </td> <td>40     </td> <td>18.5438</td> <td>17.7092</td> <td>18.6375</td> <td>19.396 </td> <td>18.3641</td> <td>15.0084</td> <td>15.9826</td> <td>40     </td> <td>17.8951</td> <td>20.1142</td> <td>17.3041</td> <td>17.5587</td> <td>16.0459</td> <td>25.2539</td> <td>18.4053</td> <td>14.582 </td>\n",
       "        </tr>\n",
       "    </tbody>\n",
       "        <tr>\n",
       "            <td>CLP008</td> <td>19.7788</td> <td>17.1802</td> <td>16.6985</td> <td>19.54  </td> <td>15.8982</td> <td>40   </td> <td>40   </td> <td>17.497 </td> <td>20.3457</td> <td>18.5086</td> <td>19.3171</td> <td>18.4221</td> <td>15.7705</td> <td>15.7099</td> <td>15.8852</td> <td>19.5119</td> <td>17.9837</td> <td>20.7401</td> <td>16.747 </td> <td>16.5715</td> <td>15.9555</td> <td>40     </td> <td>18.9303</td> <td>13.2391</td>\n",
       "        </tr>\n",
       "    </tbody>\n",
       "        <tr>\n",
       "            <td>CLP009</td> <td>40     </td> <td>17.2564</td> <td>19.2361</td> <td>18.3137</td> <td>16.3047</td> <td>40   </td> <td>40   </td> <td>40     </td> <td>16.5051</td> <td>16.3858</td> <td>18.4701</td> <td>19.5447</td> <td>18.741 </td> <td>16.3535</td> <td>18.1053</td> <td>40     </td> <td>16.8132</td> <td>20.3507</td> <td>16.6263</td> <td>16.8331</td> <td>18.0435</td> <td>17.319 </td> <td>17.2022</td> <td>13.2732</td>\n",
       "        </tr>\n",
       "    </tbody>\n",
       "        <tr>\n",
       "            <td>CLP010</td> <td>17.0894</td> <td>17.5316</td> <td>17.1864</td> <td>23.7205</td> <td>15.6409</td> <td>40   </td> <td>40   </td> <td>17.4994</td> <td>20.8113</td> <td>16.5733</td> <td>16.6343</td> <td>18.2841</td> <td>16.1988</td> <td>16.3586</td> <td>15.9203</td> <td>40     </td> <td>17.1452</td> <td>18.1469</td> <td>16.9478</td> <td>16.3117</td> <td>15.5373</td> <td>40     </td> <td>18.6297</td> <td>13.8124</td>\n",
       "        </tr>\n",
       "    </tbody>\n",
       "</table>\n",
       "<p>... (114 rows omitted)</p>"
      ],
      "text/plain": [
       "Cell   | Abl1    | Eif2b1  | Erg     | Eto2    | Fli1    | Gata1 | Gata2 | Gfi1    | Gfi1b   | hHex    | Kit     | Ldb1    | Lmo2    | Lyl1    | Meis1   | Mitf    | Mrpl19  | Nfe2    | Polr2a  | PU.1    | Runx1   | SCL     | Tel     | Ubc\n",
       "CLP001 | 18.6779 | 16.4591 | 19.6492 | 19.2428 | 15.9151 | 40    | 40    | 40      | 40      | 40      | 17.8643 | 16.6687 | 18.1803 | 15.4539 | 18.196  | 40      | 17.986  | 17.5246 | 16.9293 | 18.0198 | 15.364  | 22.6424 | 18.036  | 13.5989\n",
       "CLP002 | 19.068  | 19.4623 | 17.8717 | 40      | 17.635  | 40    | 40    | 19.0068 | 18.9441 | 18.5572 | 40      | 18.4565 | 40      | 15.7551 | 16.0334 | 40      | 40      | 17.8353 | 17.1828 | 17.8285 | 17.3757 | 40      | 18.6597 | 15.1191\n",
       "CLP003 | 17.7428 | 19.356  | 40      | 19.9412 | 15.8863 | 40    | 40    | 40      | 40      | 18.948  | 16.4138 | 20.1898 | 16.6701 | 16.6486 | 15.2953 | 40      | 40      | 18.6317 | 19.385  | 17.1509 | 17.2826 | 40      | 18.5823 | 15.2665\n",
       "CLP004 | 18.1146 | 18.767  | 18.4627 | 23.5904 | 16.5768 | 40    | 40    | 19.2466 | 19.4505 | 17.7524 | 18.165  | 18.1589 | 16.799  | 16.9698 | 17.4518 | 40      | 17.8275 | 17.8927 | 18.2808 | 17.5093 | 15.8761 | 40      | 18.0251 | 14.7498\n",
       "CLP005 | 19.5837 | 17.4833 | 17.2482 | 20.4202 | 15.7461 | 40    | 40    | 40      | 17.0363 | 18.4543 | 17.5725 | 20.6912 | 17.0085 | 15.8105 | 16.8067 | 40      | 22.667  | 19.4703 | 18.3793 | 17.3982 | 17.1598 | 19.1727 | 17.685  | 14.2408\n",
       "CLP006 | 18.186  | 17.1292 | 17.5487 | 40      | 17.6252 | 40    | 40    | 23.2387 | 19.3446 | 40      | 17.96   | 17.9261 | 16.8787 | 16.384  | 18.1375 | 40      | 18.9695 | 19.2332 | 17.1994 | 16.2727 | 16.4562 | 40      | 17.5681 | 14.7022\n",
       "CLP007 | 19.5858 | 17.5059 | 16.9023 | 20.1329 | 15.0726 | 40    | 40    | 40      | 18.5438 | 17.7092 | 18.6375 | 19.396  | 18.3641 | 15.0084 | 15.9826 | 40      | 17.8951 | 20.1142 | 17.3041 | 17.5587 | 16.0459 | 25.2539 | 18.4053 | 14.582\n",
       "CLP008 | 19.7788 | 17.1802 | 16.6985 | 19.54   | 15.8982 | 40    | 40    | 17.497  | 20.3457 | 18.5086 | 19.3171 | 18.4221 | 15.7705 | 15.7099 | 15.8852 | 19.5119 | 17.9837 | 20.7401 | 16.747  | 16.5715 | 15.9555 | 40      | 18.9303 | 13.2391\n",
       "CLP009 | 40      | 17.2564 | 19.2361 | 18.3137 | 16.3047 | 40    | 40    | 40      | 16.5051 | 16.3858 | 18.4701 | 19.5447 | 18.741  | 16.3535 | 18.1053 | 40      | 16.8132 | 20.3507 | 16.6263 | 16.8331 | 18.0435 | 17.319  | 17.2022 | 13.2732\n",
       "CLP010 | 17.0894 | 17.5316 | 17.1864 | 23.7205 | 15.6409 | 40    | 40    | 17.4994 | 20.8113 | 16.5733 | 16.6343 | 18.2841 | 16.1988 | 16.3586 | 15.9203 | 40      | 17.1452 | 18.1469 | 16.9478 | 16.3117 | 15.5373 | 40      | 18.6297 | 13.8124\n",
       "... (114 rows omitted)"
      ]
     },
     "execution_count": 79,
     "metadata": {},
     "output_type": "execute_result"
    }
   ],
   "source": [
    "## select rows containing some string pattern\n",
    "data.where('Cell',are.containing('CLP'))"
   ]
  },
  {
   "cell_type": "code",
   "execution_count": 85,
   "metadata": {},
   "outputs": [],
   "source": [
    "data.hist('Abl1')"
   ]
  },
  {
   "cell_type": "code",
   "execution_count": null,
   "metadata": {
    "collapsed": true
   },
   "outputs": [],
   "source": []
  }
 ],
 "metadata": {
  "kernelspec": {
   "display_name": "Python 3",
   "language": "python",
   "name": "python3"
  },
  "language_info": {
   "codemirror_mode": {
    "name": "ipython",
    "version": 3
   },
   "file_extension": ".py",
   "mimetype": "text/x-python",
   "name": "python",
   "nbconvert_exporter": "python",
   "pygments_lexer": "ipython3",
   "version": "3.6.1"
  }
 },
 "nbformat": 4,
 "nbformat_minor": 2
}
